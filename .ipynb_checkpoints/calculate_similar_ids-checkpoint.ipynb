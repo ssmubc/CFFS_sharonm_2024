{
 "cells": [
  {
   "cell_type": "code",
   "execution_count": 1,
   "id": "287015e5",
   "metadata": {},
   "outputs": [],
   "source": [
    "import numpy as np\n",
    "import pandas as pd"
   ]
  },
  {
   "cell_type": "code",
   "execution_count": 2,
   "id": "8a61bba6",
   "metadata": {},
   "outputs": [],
   "source": [
    "OK = pd.read_csv('C:/Users/smvan/CFFS-S23/CFFS-22-23/Items_Nonstd_for_OK.csv')\n",
    "Totem = pd.read_csv('C:/Users/smvan/CFFS-S23/CFFS-22-23/Items_standarized_for_Totem.csv')\n",
    "Gather = pd.read_csv('C:/Users/smvan/CFFS-S23/CFFS-22-23/Items_Nonstd_for_Gather.csv')"
   ]
  },
  {
   "cell_type": "code",
   "execution_count": 5,
   "id": "99133ea0",
   "metadata": {},
   "outputs": [],
   "source": [
    "common = []\n",
    "\n",
    "for i, r in OK.iterrows():\n",
    "    for index, row in Totem.iterrows():\n",
    "        if row['IngredientId'] == r['IngredientId']:\n",
    "            common.append(row['IngredientId'])\n",
    "\n",
    "for i, r in Gather.iterrows():\n",
    "    for index, row in Totem.iterrows():\n",
    "        if row['IngredientId'] == r['IngredientId']:\n",
    "            common.append(row['IngredientId'])\n",
    "\n",
    "for i, r in Gather.iterrows():\n",
    "    for index, row in OK.iterrows():\n",
    "        if row['IngredientId'] == r['IngredientId']:\n",
    "            common.append(row['IngredientId']) \n",
    "            \n",
    "common = list(set(common)) \n"
   ]
  },
  {
   "cell_type": "code",
   "execution_count": 6,
   "id": "478d97ab",
   "metadata": {},
   "outputs": [
    {
     "data": {
      "text/html": [
       "<div>\n",
       "<style scoped>\n",
       "    .dataframe tbody tr th:only-of-type {\n",
       "        vertical-align: middle;\n",
       "    }\n",
       "\n",
       "    .dataframe tbody tr th {\n",
       "        vertical-align: top;\n",
       "    }\n",
       "\n",
       "    .dataframe thead th {\n",
       "        text-align: right;\n",
       "    }\n",
       "</style>\n",
       "<table border=\"1\" class=\"dataframe\">\n",
       "  <thead>\n",
       "    <tr style=\"text-align: right;\">\n",
       "      <th></th>\n",
       "      <th>0</th>\n",
       "    </tr>\n",
       "  </thead>\n",
       "  <tbody>\n",
       "    <tr>\n",
       "      <th>0</th>\n",
       "      <td>I-3123</td>\n",
       "    </tr>\n",
       "    <tr>\n",
       "      <th>1</th>\n",
       "      <td>I-3816</td>\n",
       "    </tr>\n",
       "    <tr>\n",
       "      <th>2</th>\n",
       "      <td>I-49928</td>\n",
       "    </tr>\n",
       "    <tr>\n",
       "      <th>3</th>\n",
       "      <td>I-13219</td>\n",
       "    </tr>\n",
       "    <tr>\n",
       "      <th>4</th>\n",
       "      <td>I-64847</td>\n",
       "    </tr>\n",
       "    <tr>\n",
       "      <th>...</th>\n",
       "      <td>...</td>\n",
       "    </tr>\n",
       "    <tr>\n",
       "      <th>357</th>\n",
       "      <td>I-41809</td>\n",
       "    </tr>\n",
       "    <tr>\n",
       "      <th>358</th>\n",
       "      <td>I-13531</td>\n",
       "    </tr>\n",
       "    <tr>\n",
       "      <th>359</th>\n",
       "      <td>I-37652</td>\n",
       "    </tr>\n",
       "    <tr>\n",
       "      <th>360</th>\n",
       "      <td>I-1227</td>\n",
       "    </tr>\n",
       "    <tr>\n",
       "      <th>361</th>\n",
       "      <td>I-2778</td>\n",
       "    </tr>\n",
       "  </tbody>\n",
       "</table>\n",
       "<p>362 rows × 1 columns</p>\n",
       "</div>"
      ],
      "text/plain": [
       "           0\n",
       "0     I-3123\n",
       "1     I-3816\n",
       "2    I-49928\n",
       "3    I-13219\n",
       "4    I-64847\n",
       "..       ...\n",
       "357  I-41809\n",
       "358  I-13531\n",
       "359  I-37652\n",
       "360   I-1227\n",
       "361   I-2778\n",
       "\n",
       "[362 rows x 1 columns]"
      ]
     },
     "execution_count": 6,
     "metadata": {},
     "output_type": "execute_result"
    }
   ],
   "source": [
    "pd.DataFrame(common)"
   ]
  },
  {
   "cell_type": "code",
   "execution_count": 9,
   "id": "55399028",
   "metadata": {},
   "outputs": [
    {
     "data": {
      "text/plain": [
       "(334, 7)"
      ]
     },
     "execution_count": 9,
     "metadata": {},
     "output_type": "execute_result"
    }
   ],
   "source": [
    "# Count of all UNIQUE items\n",
    "unique_OK = OK.drop_duplicates(subset='IngredientId', keep='first')\n",
    "unique_OK.shape"
   ]
  },
  {
   "cell_type": "code",
   "execution_count": 11,
   "id": "42bbfa6e",
   "metadata": {},
   "outputs": [
    {
     "data": {
      "text/plain": [
       "(546, 7)"
      ]
     },
     "execution_count": 11,
     "metadata": {},
     "output_type": "execute_result"
    }
   ],
   "source": [
    "# Count of all UNIQUE items\n",
    "unique_Totem = Totem.drop_duplicates(subset='IngredientId', keep='first')\n",
    "unique_Totem.shape"
   ]
  },
  {
   "cell_type": "code",
   "execution_count": 12,
   "id": "5554e7a7",
   "metadata": {},
   "outputs": [
    {
     "data": {
      "text/plain": [
       "(468, 7)"
      ]
     },
     "execution_count": 12,
     "metadata": {},
     "output_type": "execute_result"
    }
   ],
   "source": [
    "# Count of all UNIQUE items\n",
    "unique_Gather = Gather.drop_duplicates(subset='IngredientId', keep='first')\n",
    "unique_Gather.shape"
   ]
  }
 ],
 "metadata": {
  "kernelspec": {
   "display_name": "Python 3 (ipykernel)",
   "language": "python",
   "name": "python3"
  },
  "language_info": {
   "codemirror_mode": {
    "name": "ipython",
    "version": 3
   },
   "file_extension": ".py",
   "mimetype": "text/x-python",
   "name": "python",
   "nbconvert_exporter": "python",
   "pygments_lexer": "ipython3",
   "version": "3.10.9"
  }
 },
 "nbformat": 4,
 "nbformat_minor": 5
}
