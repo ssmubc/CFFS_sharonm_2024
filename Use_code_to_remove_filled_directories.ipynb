{
 "cells": [
  {
   "cell_type": "code",
   "execution_count": 4,
   "id": "56c87ee5",
   "metadata": {},
   "outputs": [],
   "source": [
    "# import shutil\n",
    "\n",
    "# directory_path = 'C:/Users/smvan/CFFS-S23/CFFS-22-23/data/raw/OK 23-24 Sep-Dec/OK_Soup.oc'\n",
    "# shutil.rmtree(directory_path)\n",
    "\n",
    "\n",
    "# import shutil\n",
    "\n",
    "# directory_path = 'C:/Users/smvan/CFFS-S23/CFFS-22-23/data/raw/Gather 23-24 Sep-Dec/Gather_ALL_prods_July26_2023.oc'\n",
    "# shutil.rmtree(directory_path)\n"
   ]
  }
 ],
 "metadata": {
  "kernelspec": {
   "display_name": "Python 3 (ipykernel)",
   "language": "python",
   "name": "python3"
  },
  "language_info": {
   "codemirror_mode": {
    "name": "ipython",
    "version": 3
   },
   "file_extension": ".py",
   "mimetype": "text/x-python",
   "name": "python",
   "nbconvert_exporter": "python",
   "pygments_lexer": "ipython3",
   "version": "3.10.9"
  }
 },
 "nbformat": 4,
 "nbformat_minor": 5
}
