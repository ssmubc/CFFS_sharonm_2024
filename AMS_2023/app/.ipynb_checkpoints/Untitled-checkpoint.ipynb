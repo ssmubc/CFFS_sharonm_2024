{
 "cells": [
  {
   "cell_type": "code",
   "execution_count": 3,
   "id": "8dbeebe2",
   "metadata": {},
   "outputs": [
    {
     "name": "stdout",
     "output_type": "stream",
     "text": [
      "Requirement already satisfied: certifi==2022.12.7 in c:\\users\\smvan\\anaconda3\\lib\\site-packages (from -r requirements.txt (line 1)) (2022.12.7)\n",
      "Collecting charset-normalizer==2.1.1\n",
      "  Downloading charset_normalizer-2.1.1-py3-none-any.whl (39 kB)\n",
      "Collecting click==8.1.3\n",
      "  Downloading click-8.1.3-py3-none-any.whl (96 kB)\n",
      "     ---------------------------------------- 96.6/96.6 kB 5.4 MB/s eta 0:00:00\n",
      "Collecting dash==2.7.1\n",
      "  Downloading dash-2.7.1-py3-none-any.whl (9.9 MB)\n",
      "     ---------------------------------------- 9.9/9.9 MB 10.8 MB/s eta 0:00:00\n",
      "Collecting dash-core-components==2.0.0\n",
      "  Downloading dash_core_components-2.0.0-py3-none-any.whl (3.8 kB)\n",
      "Collecting dash-html-components==2.0.0\n",
      "  Downloading dash_html_components-2.0.0-py3-none-any.whl (4.1 kB)\n",
      "Collecting dash-bootstrap-components==1.3.0\n",
      "  Downloading dash_bootstrap_components-1.3.0-py3-none-any.whl (220 kB)\n",
      "     ------------------------------------- 220.0/220.0 kB 14.0 MB/s eta 0:00:00\n",
      "Collecting dash-table==5.0.0\n",
      "  Downloading dash_table-5.0.0-py3-none-any.whl (3.9 kB)\n",
      "Requirement already satisfied: Flask==2.2.2 in c:\\users\\smvan\\anaconda3\\lib\\site-packages (from -r requirements.txt (line 9)) (2.2.2)\n",
      "Requirement already satisfied: gunicorn==20.1.0 in c:\\users\\smvan\\anaconda3\\lib\\site-packages (from -r requirements.txt (line 10)) (20.1.0)\n",
      "Requirement already satisfied: idna==3.4 in c:\\users\\smvan\\anaconda3\\lib\\site-packages (from -r requirements.txt (line 11)) (3.4)\n",
      "Collecting importlib-metadata==6.0.0\n",
      "  Downloading importlib_metadata-6.0.0-py3-none-any.whl (21 kB)\n",
      "Collecting itsdangerous==2.1.2\n",
      "  Downloading itsdangerous-2.1.2-py3-none-any.whl (15 kB)\n",
      "Requirement already satisfied: Jinja2==3.1.2 in c:\\users\\smvan\\anaconda3\\lib\\site-packages (from -r requirements.txt (line 14)) (3.1.2)\n",
      "Requirement already satisfied: MarkupSafe==2.1.1 in c:\\users\\smvan\\anaconda3\\lib\\site-packages (from -r requirements.txt (line 15)) (2.1.1)\n",
      "Collecting numpy==1.24.1\n",
      "  Downloading numpy-1.24.1-cp310-cp310-win_amd64.whl (14.8 MB)\n",
      "     ---------------------------------------- 14.8/14.8 MB 7.8 MB/s eta 0:00:00\n",
      "Collecting pandas==1.5.2\n",
      "  Downloading pandas-1.5.2-cp310-cp310-win_amd64.whl (10.4 MB)\n",
      "     ---------------------------------------- 10.4/10.4 MB 8.3 MB/s eta 0:00:00\n",
      "Collecting plotly==5.11.0\n",
      "  Downloading plotly-5.11.0-py2.py3-none-any.whl (15.3 MB)\n",
      "     ---------------------------------------- 15.3/15.3 MB 8.2 MB/s eta 0:00:00\n",
      "Requirement already satisfied: python-dateutil==2.8.2 in c:\\users\\smvan\\anaconda3\\lib\\site-packages (from -r requirements.txt (line 19)) (2.8.2)\n",
      "Requirement already satisfied: pytz==2022.7 in c:\\users\\smvan\\anaconda3\\lib\\site-packages (from -r requirements.txt (line 20)) (2022.7)\n",
      "Requirement already satisfied: requests==2.28.1 in c:\\users\\smvan\\anaconda3\\lib\\site-packages (from -r requirements.txt (line 21)) (2.28.1)\n",
      "Requirement already satisfied: six==1.16.0 in c:\\users\\smvan\\anaconda3\\lib\\site-packages (from -r requirements.txt (line 22)) (1.16.0)\n",
      "Collecting tenacity==8.1.0\n",
      "  Downloading tenacity-8.1.0-py3-none-any.whl (23 kB)\n",
      "Collecting urllib3==1.26.13\n",
      "  Downloading urllib3-1.26.13-py2.py3-none-any.whl (140 kB)\n",
      "     -------------------------------------- 140.6/140.6 kB 8.1 MB/s eta 0:00:00\n",
      "Requirement already satisfied: Werkzeug==2.2.2 in c:\\users\\smvan\\anaconda3\\lib\\site-packages (from -r requirements.txt (line 25)) (2.2.2)\n",
      "Requirement already satisfied: zipp==3.11.0 in c:\\users\\smvan\\anaconda3\\lib\\site-packages (from -r requirements.txt (line 26)) (3.11.0)\n",
      "Requirement already satisfied: colorama in c:\\users\\smvan\\anaconda3\\lib\\site-packages (from click==8.1.3->-r requirements.txt (line 3)) (0.4.6)\n",
      "Requirement already satisfied: setuptools>=3.0 in c:\\users\\smvan\\anaconda3\\lib\\site-packages (from gunicorn==20.1.0->-r requirements.txt (line 10)) (65.6.3)\n",
      "Installing collected packages: dash-table, dash-html-components, dash-core-components, urllib3, tenacity, numpy, itsdangerous, importlib-metadata, click, charset-normalizer, plotly, pandas, dash, dash-bootstrap-components\n",
      "  Attempting uninstall: urllib3\n",
      "    Found existing installation: urllib3 1.26.14\n",
      "    Uninstalling urllib3-1.26.14:\n",
      "      Successfully uninstalled urllib3-1.26.14\n",
      "  Attempting uninstall: tenacity\n",
      "    Found existing installation: tenacity 8.0.1\n",
      "    Uninstalling tenacity-8.0.1:\n",
      "      Successfully uninstalled tenacity-8.0.1\n",
      "  Attempting uninstall: numpy\n",
      "    Found existing installation: numpy 1.23.5\n",
      "    Uninstalling numpy-1.23.5:\n",
      "      Successfully uninstalled numpy-1.23.5\n",
      "  Attempting uninstall: itsdangerous\n",
      "    Found existing installation: itsdangerous 2.0.1\n",
      "    Uninstalling itsdangerous-2.0.1:\n",
      "      Successfully uninstalled itsdangerous-2.0.1\n",
      "  Attempting uninstall: importlib-metadata\n",
      "    Found existing installation: importlib-metadata 4.11.3\n",
      "    Uninstalling importlib-metadata-4.11.3:\n",
      "      Successfully uninstalled importlib-metadata-4.11.3\n",
      "  Attempting uninstall: click\n",
      "    Found existing installation: click 8.0.4\n",
      "    Uninstalling click-8.0.4:\n",
      "      Successfully uninstalled click-8.0.4\n",
      "  Attempting uninstall: charset-normalizer\n",
      "    Found existing installation: charset-normalizer 2.0.4\n",
      "    Uninstalling charset-normalizer-2.0.4:\n",
      "      Successfully uninstalled charset-normalizer-2.0.4\n",
      "  Attempting uninstall: plotly\n",
      "    Found existing installation: plotly 5.9.0\n",
      "    Uninstalling plotly-5.9.0:\n",
      "      Successfully uninstalled plotly-5.9.0\n",
      "  Attempting uninstall: pandas\n",
      "    Found existing installation: pandas 1.5.3\n",
      "    Uninstalling pandas-1.5.3:\n",
      "      Successfully uninstalled pandas-1.5.3\n",
      "Successfully installed charset-normalizer-2.1.1 click-8.1.3 dash-2.7.1 dash-bootstrap-components-1.3.0 dash-core-components-2.0.0 dash-html-components-2.0.0 dash-table-5.0.0 importlib-metadata-6.0.0 itsdangerous-2.1.2 numpy-1.24.1 pandas-1.5.2 plotly-5.11.0 tenacity-8.1.0 urllib3-1.26.13\n"
     ]
    },
    {
     "name": "stderr",
     "output_type": "stream",
     "text": [
      "ERROR: pip's dependency resolver does not currently take into account all the packages that are installed. This behaviour is the source of the following dependency conflicts.\n",
      "gensim 4.3.0 requires FuzzyTM>=0.4.0, which is not installed.\n",
      "numba 0.56.4 requires numpy<1.24,>=1.18, but you have numpy 1.24.1 which is incompatible.\n",
      "conda-repo-cli 1.0.27 requires clyent==1.2.1, but you have clyent 1.2.2 which is incompatible.\n",
      "conda-repo-cli 1.0.27 requires nbformat==5.4.0, but you have nbformat 5.7.0 which is incompatible.\n"
     ]
    }
   ],
   "source": [
    "!pip install -r requirements.txt\n"
   ]
  },
  {
   "cell_type": "code",
   "execution_count": null,
   "id": "f9bee703",
   "metadata": {},
   "outputs": [],
   "source": []
  }
 ],
 "metadata": {
  "kernelspec": {
   "display_name": "Python 3 (ipykernel)",
   "language": "python",
   "name": "python3"
  },
  "language_info": {
   "codemirror_mode": {
    "name": "ipython",
    "version": 3
   },
   "file_extension": ".py",
   "mimetype": "text/x-python",
   "name": "python",
   "nbconvert_exporter": "python",
   "pygments_lexer": "ipython3",
   "version": "3.10.9"
  }
 },
 "nbformat": 4,
 "nbformat_minor": 5
}
