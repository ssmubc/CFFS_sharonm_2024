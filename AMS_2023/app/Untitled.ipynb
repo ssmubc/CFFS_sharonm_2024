{
 "cells": [
  {
   "cell_type": "code",
   "execution_count": 1,
   "id": "8dbeebe2",
   "metadata": {},
   "outputs": [
    {
     "name": "stdout",
     "output_type": "stream",
     "text": [
      "Requirement already satisfied: certifi==2022.12.7 in c:\\users\\smvan\\anaconda3\\lib\\site-packages (from -r requirements.txt (line 1)) (2022.12.7)\n",
      "Requirement already satisfied: charset-normalizer==2.1.1 in c:\\users\\smvan\\anaconda3\\lib\\site-packages (from -r requirements.txt (line 2)) (2.1.1)\n",
      "Requirement already satisfied: click==8.1.3 in c:\\users\\smvan\\anaconda3\\lib\\site-packages (from -r requirements.txt (line 3)) (8.1.3)\n",
      "Requirement already satisfied: dash==2.7.1 in c:\\users\\smvan\\anaconda3\\lib\\site-packages (from -r requirements.txt (line 4)) (2.7.1)\n",
      "Requirement already satisfied: dash-core-components==2.0.0 in c:\\users\\smvan\\anaconda3\\lib\\site-packages (from -r requirements.txt (line 5)) (2.0.0)\n",
      "Requirement already satisfied: dash-html-components==2.0.0 in c:\\users\\smvan\\anaconda3\\lib\\site-packages (from -r requirements.txt (line 6)) (2.0.0)\n",
      "Requirement already satisfied: dash-bootstrap-components==1.3.0 in c:\\users\\smvan\\anaconda3\\lib\\site-packages (from -r requirements.txt (line 7)) (1.3.0)\n",
      "Requirement already satisfied: dash-table==5.0.0 in c:\\users\\smvan\\anaconda3\\lib\\site-packages (from -r requirements.txt (line 8)) (5.0.0)\n",
      "Requirement already satisfied: Flask==2.2.2 in c:\\users\\smvan\\anaconda3\\lib\\site-packages (from -r requirements.txt (line 9)) (2.2.2)\n",
      "Requirement already satisfied: gunicorn==20.1.0 in c:\\users\\smvan\\anaconda3\\lib\\site-packages (from -r requirements.txt (line 10)) (20.1.0)\n",
      "Requirement already satisfied: idna==3.4 in c:\\users\\smvan\\anaconda3\\lib\\site-packages (from -r requirements.txt (line 11)) (3.4)\n",
      "Requirement already satisfied: importlib-metadata==6.0.0 in c:\\users\\smvan\\anaconda3\\lib\\site-packages (from -r requirements.txt (line 12)) (6.0.0)\n",
      "Requirement already satisfied: itsdangerous==2.1.2 in c:\\users\\smvan\\anaconda3\\lib\\site-packages (from -r requirements.txt (line 13)) (2.1.2)\n",
      "Requirement already satisfied: Jinja2==3.1.2 in c:\\users\\smvan\\anaconda3\\lib\\site-packages (from -r requirements.txt (line 14)) (3.1.2)\n",
      "Requirement already satisfied: MarkupSafe==2.1.1 in c:\\users\\smvan\\anaconda3\\lib\\site-packages (from -r requirements.txt (line 15)) (2.1.1)\n",
      "Requirement already satisfied: numpy==1.24.1 in c:\\users\\smvan\\anaconda3\\lib\\site-packages (from -r requirements.txt (line 16)) (1.24.1)\n",
      "Requirement already satisfied: pandas==1.5.2 in c:\\users\\smvan\\anaconda3\\lib\\site-packages (from -r requirements.txt (line 17)) (1.5.2)\n",
      "Requirement already satisfied: plotly==5.11.0 in c:\\users\\smvan\\anaconda3\\lib\\site-packages (from -r requirements.txt (line 18)) (5.11.0)\n",
      "Requirement already satisfied: python-dateutil==2.8.2 in c:\\users\\smvan\\anaconda3\\lib\\site-packages (from -r requirements.txt (line 19)) (2.8.2)\n",
      "Requirement already satisfied: pytz==2022.7 in c:\\users\\smvan\\anaconda3\\lib\\site-packages (from -r requirements.txt (line 20)) (2022.7)\n",
      "Requirement already satisfied: requests==2.28.1 in c:\\users\\smvan\\anaconda3\\lib\\site-packages (from -r requirements.txt (line 21)) (2.28.1)\n",
      "Requirement already satisfied: six==1.16.0 in c:\\users\\smvan\\anaconda3\\lib\\site-packages (from -r requirements.txt (line 22)) (1.16.0)\n",
      "Requirement already satisfied: tenacity==8.1.0 in c:\\users\\smvan\\anaconda3\\lib\\site-packages (from -r requirements.txt (line 23)) (8.1.0)\n",
      "Requirement already satisfied: urllib3==1.26.13 in c:\\users\\smvan\\anaconda3\\lib\\site-packages (from -r requirements.txt (line 24)) (1.26.13)\n",
      "Requirement already satisfied: Werkzeug==2.2.2 in c:\\users\\smvan\\anaconda3\\lib\\site-packages (from -r requirements.txt (line 25)) (2.2.2)\n",
      "Requirement already satisfied: zipp==3.11.0 in c:\\users\\smvan\\anaconda3\\lib\\site-packages (from -r requirements.txt (line 26)) (3.11.0)\n",
      "Requirement already satisfied: colorama in c:\\users\\smvan\\anaconda3\\lib\\site-packages (from click==8.1.3->-r requirements.txt (line 3)) (0.4.6)\n",
      "Requirement already satisfied: setuptools>=3.0 in c:\\users\\smvan\\anaconda3\\lib\\site-packages (from gunicorn==20.1.0->-r requirements.txt (line 10)) (65.6.3)\n",
      "Note: you may need to restart the kernel to use updated packages.\n"
     ]
    }
   ],
   "source": [
    "pip install -r requirements.txt\n"
   ]
  },
  {
   "cell_type": "code",
   "execution_count": 2,
   "id": "f9bee703",
   "metadata": {},
   "outputs": [
    {
     "name": "stdout",
     "output_type": "stream",
     "text": [
      "Requirement already satisfied: gunicorn in c:\\users\\smvan\\anaconda3\\lib\\site-packages (20.1.0)Note: you may need to restart the kernel to use updated packages.\n",
      "\n",
      "Requirement already satisfied: setuptools>=3.0 in c:\\users\\smvan\\anaconda3\\lib\\site-packages (from gunicorn) (65.6.3)\n"
     ]
    }
   ],
   "source": [
    "pip install gunicorn"
   ]
  },
  {
   "cell_type": "code",
   "execution_count": 3,
   "id": "1fafa439",
   "metadata": {},
   "outputs": [
    {
     "ename": "SyntaxError",
     "evalue": "invalid syntax (1006263184.py, line 1)",
     "output_type": "error",
     "traceback": [
      "\u001b[1;36m  Cell \u001b[1;32mIn[3], line 1\u001b[1;36m\u001b[0m\n\u001b[1;33m    gunicorn step6_Dash_App:server\u001b[0m\n\u001b[1;37m             ^\u001b[0m\n\u001b[1;31mSyntaxError\u001b[0m\u001b[1;31m:\u001b[0m invalid syntax\n"
     ]
    }
   ],
   "source": [
    "gunicorn step6_Dash_App:server"
   ]
  },
  {
   "cell_type": "code",
   "execution_count": null,
   "id": "7eef338d",
   "metadata": {},
   "outputs": [],
   "source": []
  }
 ],
 "metadata": {
  "kernelspec": {
   "display_name": "Python 3 (ipykernel)",
   "language": "python",
   "name": "python3"
  },
  "language_info": {
   "codemirror_mode": {
    "name": "ipython",
    "version": 3
   },
   "file_extension": ".py",
   "mimetype": "text/x-python",
   "name": "python",
   "nbconvert_exporter": "python",
   "pygments_lexer": "ipython3",
   "version": "3.10.9"
  }
 },
 "nbformat": 4,
 "nbformat_minor": 5
}
