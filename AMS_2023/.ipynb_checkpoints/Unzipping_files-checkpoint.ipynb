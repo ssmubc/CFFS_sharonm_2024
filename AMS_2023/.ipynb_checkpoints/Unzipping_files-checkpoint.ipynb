{
 "cells": [
  {
   "cell_type": "markdown",
   "id": "3b52fa05",
   "metadata": {},
   "source": [
    "# PROCESS OF UNZIPPING .OC FILES FROM OC\n",
    "\n",
    "**By Sharon Marfatia**"
   ]
  },
  {
   "cell_type": "code",
   "execution_count": 1,
   "id": "0083d189",
   "metadata": {},
   "outputs": [],
   "source": [
    "import zipfile"
   ]
  },
  {
   "cell_type": "code",
   "execution_count": 2,
   "id": "b605b7ff",
   "metadata": {},
   "outputs": [],
   "source": [
    "# zip_file_path = 'C:/Users/smvan/CFFS-S23/CFFS-22-23/data/raw/OK 23-24 Sep-Dec/OK_Soups_2023.oc.oc.zip'\n",
    "\n",
    "zip_file_path = 'C:/Users/smvan/CFFS-S23/CFFS-22-23/data/raw/OK 23-24 Sep-Dec/ALL_items_july20_2023.oc.zip'"
   ]
  },
  {
   "cell_type": "code",
   "execution_count": 3,
   "id": "ab045a30",
   "metadata": {},
   "outputs": [],
   "source": [
    "zip_ref = zipfile.ZipFile(zip_file_path, 'r')"
   ]
  },
  {
   "cell_type": "code",
   "execution_count": 4,
   "id": "22513aec",
   "metadata": {},
   "outputs": [],
   "source": [
    "# zip_ref.extractall('C:/Users/smvan/CFFS-S23/CFFS-22-23/data/raw/OK 23-24 Sep-Dec/OK_Soup.oc')\n",
    "\n",
    "zip_ref.extractall('C:/Users/smvan/CFFS-S23/CFFS-22-23/data/raw/OK 23-24 Sep-Dec/OK_ALL_prods_July20_2023.oc')"
   ]
  },
  {
   "cell_type": "code",
   "execution_count": 5,
   "id": "e6ca3f79",
   "metadata": {},
   "outputs": [],
   "source": [
    "zip_ref.close()"
   ]
  }
 ],
 "metadata": {
  "kernelspec": {
   "display_name": "Python 3 (ipykernel)",
   "language": "python",
   "name": "python3"
  },
  "language_info": {
   "codemirror_mode": {
    "name": "ipython",
    "version": 3
   },
   "file_extension": ".py",
   "mimetype": "text/x-python",
   "name": "python",
   "nbconvert_exporter": "python",
   "pygments_lexer": "ipython3",
   "version": "3.10.9"
  }
 },
 "nbformat": 4,
 "nbformat_minor": 5
}
