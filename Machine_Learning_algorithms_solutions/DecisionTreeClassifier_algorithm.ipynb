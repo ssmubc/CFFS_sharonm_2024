{
 "cells": [
  {
   "cell_type": "markdown",
   "id": "fb1dd20d",
   "metadata": {},
   "source": [
    "# Using a Decision Tree Classifier algorithm to assign labels on unknown data"
   ]
  },
  {
   "cell_type": "code",
   "execution_count": 1,
   "id": "051527e0",
   "metadata": {},
   "outputs": [],
   "source": [
    "import pandas as pd\n",
    "from sklearn.model_selection import train_test_split\n",
    "from sklearn.tree import DecisionTreeClassifier\n",
    "from sklearn.metrics import accuracy_score"
   ]
  },
  {
   "cell_type": "code",
   "execution_count": 2,
   "id": "723f45d6",
   "metadata": {},
   "outputs": [],
   "source": [
    "# Load the data into a pandas DataFrame\n",
    "df_combined = pd.read_csv('C:/Users/smvan/CFFS-S23/CFFS-22-23/data/final/2022_2023_CFFS_Outcomes/Data_Labelled_Gather22-23_with_name' +\n",
    "                 '.csv', usecols=[0, 1, 2, 3, 4, 5, 6, 7, 8, 9, 10, 11, 12, 13, 15])"
   ]
  },
  {
   "cell_type": "code",
   "execution_count": 3,
   "id": "b7b78023",
   "metadata": {},
   "outputs": [
    {
     "data": {
      "text/html": [
       "<div>\n",
       "<style scoped>\n",
       "    .dataframe tbody tr th:only-of-type {\n",
       "        vertical-align: middle;\n",
       "    }\n",
       "\n",
       "    .dataframe tbody tr th {\n",
       "        vertical-align: top;\n",
       "    }\n",
       "\n",
       "    .dataframe thead th {\n",
       "        text-align: right;\n",
       "    }\n",
       "</style>\n",
       "<table border=\"1\" class=\"dataframe\">\n",
       "  <thead>\n",
       "    <tr style=\"text-align: right;\">\n",
       "      <th></th>\n",
       "      <th>Category</th>\n",
       "      <th>Displayed Name</th>\n",
       "      <th>ProdId</th>\n",
       "      <th>Description</th>\n",
       "      <th>SalesGroup</th>\n",
       "      <th>Weight (g)</th>\n",
       "      <th>GHG Emission (g)</th>\n",
       "      <th>N lost (g)</th>\n",
       "      <th>Freshwater Withdrawals (L)</th>\n",
       "      <th>Stress-Weighted Water Use (L)</th>\n",
       "      <th>GHG Emission (g) / 100g</th>\n",
       "      <th>N lost (g) / 100g</th>\n",
       "      <th>Freshwater Withdrawals (L) / 100g</th>\n",
       "      <th>Stress-Weighted Water Use (L) / 100g</th>\n",
       "      <th>Combined Label</th>\n",
       "    </tr>\n",
       "  </thead>\n",
       "  <tbody>\n",
       "    <tr>\n",
       "      <th>0</th>\n",
       "      <td>Caliente</td>\n",
       "      <td>Black bean soup</td>\n",
       "      <td>R-54947</td>\n",
       "      <td>CAL|Black bean soup|AAD</td>\n",
       "      <td>GV - CALIENTE</td>\n",
       "      <td>405.0</td>\n",
       "      <td>642.872067</td>\n",
       "      <td>3.699893</td>\n",
       "      <td>53.60</td>\n",
       "      <td>1723.18</td>\n",
       "      <td>158.73</td>\n",
       "      <td>0.91</td>\n",
       "      <td>13.23</td>\n",
       "      <td>425.48</td>\n",
       "      <td>Green</td>\n",
       "    </tr>\n",
       "    <tr>\n",
       "      <th>1</th>\n",
       "      <td>Caliente</td>\n",
       "      <td>Guacamole bowl</td>\n",
       "      <td>R-55154</td>\n",
       "      <td>CAL|Bowl|Guacamole|AAD</td>\n",
       "      <td>GV - CALIENTE</td>\n",
       "      <td>345.0</td>\n",
       "      <td>577.312317</td>\n",
       "      <td>3.412346</td>\n",
       "      <td>115.97</td>\n",
       "      <td>3039.52</td>\n",
       "      <td>167.34</td>\n",
       "      <td>0.99</td>\n",
       "      <td>33.61</td>\n",
       "      <td>881.02</td>\n",
       "      <td>Green</td>\n",
       "    </tr>\n",
       "    <tr>\n",
       "      <th>2</th>\n",
       "      <td>Caliente</td>\n",
       "      <td>Havana Add Chicken Bowl</td>\n",
       "      <td>R-62018</td>\n",
       "      <td>CAL|Bowl|Havana|Add Chicken</td>\n",
       "      <td>GV - CALIENTE</td>\n",
       "      <td>430.0</td>\n",
       "      <td>1120.107243</td>\n",
       "      <td>15.532360</td>\n",
       "      <td>125.86</td>\n",
       "      <td>764.45</td>\n",
       "      <td>260.49</td>\n",
       "      <td>3.61</td>\n",
       "      <td>29.27</td>\n",
       "      <td>177.78</td>\n",
       "      <td>Yellow</td>\n",
       "    </tr>\n",
       "    <tr>\n",
       "      <th>3</th>\n",
       "      <td>Caliente</td>\n",
       "      <td>Havana Add Scallop Bowl</td>\n",
       "      <td>R-64909</td>\n",
       "      <td>CAL|Bowl|Havana|Add Scallop</td>\n",
       "      <td>GV - CALIENTE</td>\n",
       "      <td>390.0</td>\n",
       "      <td>742.333777</td>\n",
       "      <td>6.220997</td>\n",
       "      <td>83.43</td>\n",
       "      <td>677.50</td>\n",
       "      <td>190.34</td>\n",
       "      <td>1.60</td>\n",
       "      <td>21.39</td>\n",
       "      <td>173.72</td>\n",
       "      <td>Green</td>\n",
       "    </tr>\n",
       "    <tr>\n",
       "      <th>4</th>\n",
       "      <td>Caliente</td>\n",
       "      <td>Havana Plant-based Bowl</td>\n",
       "      <td>R-35896</td>\n",
       "      <td>CAL|Bowl|Havana|Plant based</td>\n",
       "      <td>GV - CALIENTE</td>\n",
       "      <td>415.0</td>\n",
       "      <td>769.178688</td>\n",
       "      <td>2.802186</td>\n",
       "      <td>83.83</td>\n",
       "      <td>673.26</td>\n",
       "      <td>185.34</td>\n",
       "      <td>0.68</td>\n",
       "      <td>20.20</td>\n",
       "      <td>162.23</td>\n",
       "      <td>Green</td>\n",
       "    </tr>\n",
       "  </tbody>\n",
       "</table>\n",
       "</div>"
      ],
      "text/plain": [
       "    Category            Displayed Name   ProdId                  Description  \\\n",
       "0  Caliente            Black bean soup  R-54947      CAL|Black bean soup|AAD   \n",
       "1  Caliente             Guacamole bowl  R-55154       CAL|Bowl|Guacamole|AAD   \n",
       "2  Caliente    Havana Add Chicken Bowl  R-62018  CAL|Bowl|Havana|Add Chicken   \n",
       "3  Caliente    Havana Add Scallop Bowl  R-64909  CAL|Bowl|Havana|Add Scallop   \n",
       "4  Caliente    Havana Plant-based Bowl  R-35896  CAL|Bowl|Havana|Plant based   \n",
       "\n",
       "      SalesGroup  Weight (g)  GHG Emission (g)  N lost (g)  \\\n",
       "0  GV - CALIENTE       405.0        642.872067    3.699893   \n",
       "1  GV - CALIENTE       345.0        577.312317    3.412346   \n",
       "2  GV - CALIENTE       430.0       1120.107243   15.532360   \n",
       "3  GV - CALIENTE       390.0        742.333777    6.220997   \n",
       "4  GV - CALIENTE       415.0        769.178688    2.802186   \n",
       "\n",
       "   Freshwater Withdrawals (L)  Stress-Weighted Water Use (L)  \\\n",
       "0                       53.60                        1723.18   \n",
       "1                      115.97                        3039.52   \n",
       "2                      125.86                         764.45   \n",
       "3                       83.43                         677.50   \n",
       "4                       83.83                         673.26   \n",
       "\n",
       "   GHG Emission (g) / 100g  N lost (g) / 100g  \\\n",
       "0                   158.73               0.91   \n",
       "1                   167.34               0.99   \n",
       "2                   260.49               3.61   \n",
       "3                   190.34               1.60   \n",
       "4                   185.34               0.68   \n",
       "\n",
       "   Freshwater Withdrawals (L) / 100g  Stress-Weighted Water Use (L) / 100g  \\\n",
       "0                              13.23                                425.48   \n",
       "1                              33.61                                881.02   \n",
       "2                              29.27                                177.78   \n",
       "3                              21.39                                173.72   \n",
       "4                              20.20                                162.23   \n",
       "\n",
       "  Combined Label  \n",
       "0          Green  \n",
       "1          Green  \n",
       "2         Yellow  \n",
       "3          Green  \n",
       "4          Green  "
      ]
     },
     "execution_count": 3,
     "metadata": {},
     "output_type": "execute_result"
    }
   ],
   "source": [
    "df_combined.head()"
   ]
  },
  {
   "cell_type": "code",
   "execution_count": 4,
   "id": "371e1a43",
   "metadata": {},
   "outputs": [],
   "source": [
    "# Split the dataset into input features (X) and target variable (y)\n",
    "X = df_combined[['GHG Emission (g)', 'N lost (g)', 'Freshwater Withdrawals (L)', 'Stress-Weighted Water Use (L)']]\n",
    "y = df_combined['Combined Label']"
   ]
  },
  {
   "cell_type": "code",
   "execution_count": 5,
   "id": "00de0346",
   "metadata": {},
   "outputs": [],
   "source": [
    "# Split the dataset into training and testing sets\n",
    "X_train, X_test, y_train, y_test = train_test_split(X, y, test_size=0.3, random_state=42)"
   ]
  },
  {
   "cell_type": "code",
   "execution_count": 6,
   "id": "d19ef26d",
   "metadata": {},
   "outputs": [
    {
     "data": {
      "text/html": [
       "<style>#sk-container-id-1 {color: black;background-color: white;}#sk-container-id-1 pre{padding: 0;}#sk-container-id-1 div.sk-toggleable {background-color: white;}#sk-container-id-1 label.sk-toggleable__label {cursor: pointer;display: block;width: 100%;margin-bottom: 0;padding: 0.3em;box-sizing: border-box;text-align: center;}#sk-container-id-1 label.sk-toggleable__label-arrow:before {content: \"▸\";float: left;margin-right: 0.25em;color: #696969;}#sk-container-id-1 label.sk-toggleable__label-arrow:hover:before {color: black;}#sk-container-id-1 div.sk-estimator:hover label.sk-toggleable__label-arrow:before {color: black;}#sk-container-id-1 div.sk-toggleable__content {max-height: 0;max-width: 0;overflow: hidden;text-align: left;background-color: #f0f8ff;}#sk-container-id-1 div.sk-toggleable__content pre {margin: 0.2em;color: black;border-radius: 0.25em;background-color: #f0f8ff;}#sk-container-id-1 input.sk-toggleable__control:checked~div.sk-toggleable__content {max-height: 200px;max-width: 100%;overflow: auto;}#sk-container-id-1 input.sk-toggleable__control:checked~label.sk-toggleable__label-arrow:before {content: \"▾\";}#sk-container-id-1 div.sk-estimator input.sk-toggleable__control:checked~label.sk-toggleable__label {background-color: #d4ebff;}#sk-container-id-1 div.sk-label input.sk-toggleable__control:checked~label.sk-toggleable__label {background-color: #d4ebff;}#sk-container-id-1 input.sk-hidden--visually {border: 0;clip: rect(1px 1px 1px 1px);clip: rect(1px, 1px, 1px, 1px);height: 1px;margin: -1px;overflow: hidden;padding: 0;position: absolute;width: 1px;}#sk-container-id-1 div.sk-estimator {font-family: monospace;background-color: #f0f8ff;border: 1px dotted black;border-radius: 0.25em;box-sizing: border-box;margin-bottom: 0.5em;}#sk-container-id-1 div.sk-estimator:hover {background-color: #d4ebff;}#sk-container-id-1 div.sk-parallel-item::after {content: \"\";width: 100%;border-bottom: 1px solid gray;flex-grow: 1;}#sk-container-id-1 div.sk-label:hover label.sk-toggleable__label {background-color: #d4ebff;}#sk-container-id-1 div.sk-serial::before {content: \"\";position: absolute;border-left: 1px solid gray;box-sizing: border-box;top: 0;bottom: 0;left: 50%;z-index: 0;}#sk-container-id-1 div.sk-serial {display: flex;flex-direction: column;align-items: center;background-color: white;padding-right: 0.2em;padding-left: 0.2em;position: relative;}#sk-container-id-1 div.sk-item {position: relative;z-index: 1;}#sk-container-id-1 div.sk-parallel {display: flex;align-items: stretch;justify-content: center;background-color: white;position: relative;}#sk-container-id-1 div.sk-item::before, #sk-container-id-1 div.sk-parallel-item::before {content: \"\";position: absolute;border-left: 1px solid gray;box-sizing: border-box;top: 0;bottom: 0;left: 50%;z-index: -1;}#sk-container-id-1 div.sk-parallel-item {display: flex;flex-direction: column;z-index: 1;position: relative;background-color: white;}#sk-container-id-1 div.sk-parallel-item:first-child::after {align-self: flex-end;width: 50%;}#sk-container-id-1 div.sk-parallel-item:last-child::after {align-self: flex-start;width: 50%;}#sk-container-id-1 div.sk-parallel-item:only-child::after {width: 0;}#sk-container-id-1 div.sk-dashed-wrapped {border: 1px dashed gray;margin: 0 0.4em 0.5em 0.4em;box-sizing: border-box;padding-bottom: 0.4em;background-color: white;}#sk-container-id-1 div.sk-label label {font-family: monospace;font-weight: bold;display: inline-block;line-height: 1.2em;}#sk-container-id-1 div.sk-label-container {text-align: center;}#sk-container-id-1 div.sk-container {/* jupyter's `normalize.less` sets `[hidden] { display: none; }` but bootstrap.min.css set `[hidden] { display: none !important; }` so we also need the `!important` here to be able to override the default hidden behavior on the sphinx rendered scikit-learn.org. See: https://github.com/scikit-learn/scikit-learn/issues/21755 */display: inline-block !important;position: relative;}#sk-container-id-1 div.sk-text-repr-fallback {display: none;}</style><div id=\"sk-container-id-1\" class=\"sk-top-container\"><div class=\"sk-text-repr-fallback\"><pre>DecisionTreeClassifier()</pre><b>In a Jupyter environment, please rerun this cell to show the HTML representation or trust the notebook. <br />On GitHub, the HTML representation is unable to render, please try loading this page with nbviewer.org.</b></div><div class=\"sk-container\" hidden><div class=\"sk-item\"><div class=\"sk-estimator sk-toggleable\"><input class=\"sk-toggleable__control sk-hidden--visually\" id=\"sk-estimator-id-1\" type=\"checkbox\" checked><label for=\"sk-estimator-id-1\" class=\"sk-toggleable__label sk-toggleable__label-arrow\">DecisionTreeClassifier</label><div class=\"sk-toggleable__content\"><pre>DecisionTreeClassifier()</pre></div></div></div></div></div>"
      ],
      "text/plain": [
       "DecisionTreeClassifier()"
      ]
     },
     "execution_count": 6,
     "metadata": {},
     "output_type": "execute_result"
    }
   ],
   "source": [
    "# Select the machine learning algorithm and fit the model to the training data\n",
    "clf = DecisionTreeClassifier()\n",
    "clf.fit(X_train, y_train)"
   ]
  },
  {
   "cell_type": "code",
   "execution_count": 7,
   "id": "f8bf6801",
   "metadata": {},
   "outputs": [],
   "source": [
    "# Use the trained model to make predictions on the test dataset\n",
    "y_pred = clf.predict(X_test)"
   ]
  },
  {
   "cell_type": "code",
   "execution_count": 8,
   "id": "3fc8fc35",
   "metadata": {},
   "outputs": [
    {
     "name": "stdout",
     "output_type": "stream",
     "text": [
      "Accuracy: 0.7362637362637363\n"
     ]
    }
   ],
   "source": [
    "# Evaluate the model's performance by comparing the predicted labels to the actual labels\n",
    "accuracy = accuracy_score(y_test, y_pred)\n",
    "print(\"Accuracy:\", accuracy)"
   ]
  },
  {
   "cell_type": "markdown",
   "id": "f6e83641",
   "metadata": {},
   "source": [
    "Now we use only GHG Emission (g) to make predictions"
   ]
  },
  {
   "cell_type": "code",
   "execution_count": 9,
   "id": "9e8dd48c",
   "metadata": {},
   "outputs": [
    {
     "data": {
      "text/html": [
       "<div>\n",
       "<style scoped>\n",
       "    .dataframe tbody tr th:only-of-type {\n",
       "        vertical-align: middle;\n",
       "    }\n",
       "\n",
       "    .dataframe tbody tr th {\n",
       "        vertical-align: top;\n",
       "    }\n",
       "\n",
       "    .dataframe thead th {\n",
       "        text-align: right;\n",
       "    }\n",
       "</style>\n",
       "<table border=\"1\" class=\"dataframe\">\n",
       "  <thead>\n",
       "    <tr style=\"text-align: right;\">\n",
       "      <th></th>\n",
       "      <th>Category</th>\n",
       "      <th>Displayed Name</th>\n",
       "      <th>ProdId</th>\n",
       "      <th>Description</th>\n",
       "      <th>SalesGroup</th>\n",
       "      <th>Weight (g)</th>\n",
       "      <th>GHG Emission (g)</th>\n",
       "      <th>N lost (g)</th>\n",
       "      <th>Freshwater Withdrawals (L)</th>\n",
       "      <th>Stress-Weighted Water Use (L)</th>\n",
       "      <th>GHG Emission (g) / 100g</th>\n",
       "      <th>N lost (g) / 100g</th>\n",
       "      <th>Freshwater Withdrawals (L) / 100g</th>\n",
       "      <th>Stress-Weighted Water Use (L) / 100g</th>\n",
       "      <th>GHG Only Label</th>\n",
       "    </tr>\n",
       "  </thead>\n",
       "  <tbody>\n",
       "    <tr>\n",
       "      <th>0</th>\n",
       "      <td>Caliente</td>\n",
       "      <td>Black bean soup</td>\n",
       "      <td>R-54947</td>\n",
       "      <td>CAL|Black bean soup|AAD</td>\n",
       "      <td>GV - CALIENTE</td>\n",
       "      <td>405.0</td>\n",
       "      <td>642.872067</td>\n",
       "      <td>3.699893</td>\n",
       "      <td>53.60</td>\n",
       "      <td>1723.18</td>\n",
       "      <td>158.73</td>\n",
       "      <td>0.91</td>\n",
       "      <td>13.23</td>\n",
       "      <td>425.48</td>\n",
       "      <td>Green</td>\n",
       "    </tr>\n",
       "    <tr>\n",
       "      <th>1</th>\n",
       "      <td>Caliente</td>\n",
       "      <td>Guacamole bowl</td>\n",
       "      <td>R-55154</td>\n",
       "      <td>CAL|Bowl|Guacamole|AAD</td>\n",
       "      <td>GV - CALIENTE</td>\n",
       "      <td>345.0</td>\n",
       "      <td>577.312317</td>\n",
       "      <td>3.412346</td>\n",
       "      <td>115.97</td>\n",
       "      <td>3039.52</td>\n",
       "      <td>167.34</td>\n",
       "      <td>0.99</td>\n",
       "      <td>33.61</td>\n",
       "      <td>881.02</td>\n",
       "      <td>Green</td>\n",
       "    </tr>\n",
       "    <tr>\n",
       "      <th>2</th>\n",
       "      <td>Caliente</td>\n",
       "      <td>Havana Add Chicken Bowl</td>\n",
       "      <td>R-62018</td>\n",
       "      <td>CAL|Bowl|Havana|Add Chicken</td>\n",
       "      <td>GV - CALIENTE</td>\n",
       "      <td>430.0</td>\n",
       "      <td>1120.107243</td>\n",
       "      <td>15.532360</td>\n",
       "      <td>125.86</td>\n",
       "      <td>764.45</td>\n",
       "      <td>260.49</td>\n",
       "      <td>3.61</td>\n",
       "      <td>29.27</td>\n",
       "      <td>177.78</td>\n",
       "      <td>Yellow</td>\n",
       "    </tr>\n",
       "    <tr>\n",
       "      <th>3</th>\n",
       "      <td>Caliente</td>\n",
       "      <td>Havana Add Scallop Bowl</td>\n",
       "      <td>R-64909</td>\n",
       "      <td>CAL|Bowl|Havana|Add Scallop</td>\n",
       "      <td>GV - CALIENTE</td>\n",
       "      <td>390.0</td>\n",
       "      <td>742.333777</td>\n",
       "      <td>6.220997</td>\n",
       "      <td>83.43</td>\n",
       "      <td>677.50</td>\n",
       "      <td>190.34</td>\n",
       "      <td>1.60</td>\n",
       "      <td>21.39</td>\n",
       "      <td>173.72</td>\n",
       "      <td>Yellow</td>\n",
       "    </tr>\n",
       "    <tr>\n",
       "      <th>4</th>\n",
       "      <td>Caliente</td>\n",
       "      <td>Havana Plant-based Bowl</td>\n",
       "      <td>R-35896</td>\n",
       "      <td>CAL|Bowl|Havana|Plant based</td>\n",
       "      <td>GV - CALIENTE</td>\n",
       "      <td>415.0</td>\n",
       "      <td>769.178688</td>\n",
       "      <td>2.802186</td>\n",
       "      <td>83.83</td>\n",
       "      <td>673.26</td>\n",
       "      <td>185.34</td>\n",
       "      <td>0.68</td>\n",
       "      <td>20.20</td>\n",
       "      <td>162.23</td>\n",
       "      <td>Yellow</td>\n",
       "    </tr>\n",
       "  </tbody>\n",
       "</table>\n",
       "</div>"
      ],
      "text/plain": [
       "    Category            Displayed Name   ProdId                  Description  \\\n",
       "0  Caliente            Black bean soup  R-54947      CAL|Black bean soup|AAD   \n",
       "1  Caliente             Guacamole bowl  R-55154       CAL|Bowl|Guacamole|AAD   \n",
       "2  Caliente    Havana Add Chicken Bowl  R-62018  CAL|Bowl|Havana|Add Chicken   \n",
       "3  Caliente    Havana Add Scallop Bowl  R-64909  CAL|Bowl|Havana|Add Scallop   \n",
       "4  Caliente    Havana Plant-based Bowl  R-35896  CAL|Bowl|Havana|Plant based   \n",
       "\n",
       "      SalesGroup  Weight (g)  GHG Emission (g)  N lost (g)  \\\n",
       "0  GV - CALIENTE       405.0        642.872067    3.699893   \n",
       "1  GV - CALIENTE       345.0        577.312317    3.412346   \n",
       "2  GV - CALIENTE       430.0       1120.107243   15.532360   \n",
       "3  GV - CALIENTE       390.0        742.333777    6.220997   \n",
       "4  GV - CALIENTE       415.0        769.178688    2.802186   \n",
       "\n",
       "   Freshwater Withdrawals (L)  Stress-Weighted Water Use (L)  \\\n",
       "0                       53.60                        1723.18   \n",
       "1                      115.97                        3039.52   \n",
       "2                      125.86                         764.45   \n",
       "3                       83.43                         677.50   \n",
       "4                       83.83                         673.26   \n",
       "\n",
       "   GHG Emission (g) / 100g  N lost (g) / 100g  \\\n",
       "0                   158.73               0.91   \n",
       "1                   167.34               0.99   \n",
       "2                   260.49               3.61   \n",
       "3                   190.34               1.60   \n",
       "4                   185.34               0.68   \n",
       "\n",
       "   Freshwater Withdrawals (L) / 100g  Stress-Weighted Water Use (L) / 100g  \\\n",
       "0                              13.23                                425.48   \n",
       "1                              33.61                                881.02   \n",
       "2                              29.27                                177.78   \n",
       "3                              21.39                                173.72   \n",
       "4                              20.20                                162.23   \n",
       "\n",
       "  GHG Only Label  \n",
       "0          Green  \n",
       "1          Green  \n",
       "2         Yellow  \n",
       "3         Yellow  \n",
       "4         Yellow  "
      ]
     },
     "execution_count": 9,
     "metadata": {},
     "output_type": "execute_result"
    }
   ],
   "source": [
    "# Load the data into a pandas DataFrame\n",
    "df_ghg = pd.read_csv('C:/Users/smvan/CFFS-S23/CFFS-22-23/data/final/2022_2023_CFFS_Outcomes/Data_Labelled_Gather22-23_with_name' +\n",
    "                 '.csv', usecols=[0, 1, 2, 3, 4, 5, 6, 7, 8, 9, 10, 11, 12, 13, 14])\n",
    "df_ghg.head()"
   ]
  },
  {
   "cell_type": "code",
   "execution_count": 10,
   "id": "100419eb",
   "metadata": {},
   "outputs": [],
   "source": [
    "# Split the dataset into input features (X) and target variable (y)\n",
    "X = df_ghg[['GHG Emission (g)']]\n",
    "y = df_ghg['GHG Only Label']"
   ]
  },
  {
   "cell_type": "code",
   "execution_count": 11,
   "id": "0009d7ee",
   "metadata": {},
   "outputs": [],
   "source": [
    "# Split the dataset into training and testing sets\n",
    "X_train, X_test, y_train, y_test = train_test_split(X, y, test_size=0.3, random_state=42)"
   ]
  },
  {
   "cell_type": "code",
   "execution_count": 12,
   "id": "6e27590f",
   "metadata": {},
   "outputs": [
    {
     "data": {
      "text/html": [
       "<style>#sk-container-id-2 {color: black;background-color: white;}#sk-container-id-2 pre{padding: 0;}#sk-container-id-2 div.sk-toggleable {background-color: white;}#sk-container-id-2 label.sk-toggleable__label {cursor: pointer;display: block;width: 100%;margin-bottom: 0;padding: 0.3em;box-sizing: border-box;text-align: center;}#sk-container-id-2 label.sk-toggleable__label-arrow:before {content: \"▸\";float: left;margin-right: 0.25em;color: #696969;}#sk-container-id-2 label.sk-toggleable__label-arrow:hover:before {color: black;}#sk-container-id-2 div.sk-estimator:hover label.sk-toggleable__label-arrow:before {color: black;}#sk-container-id-2 div.sk-toggleable__content {max-height: 0;max-width: 0;overflow: hidden;text-align: left;background-color: #f0f8ff;}#sk-container-id-2 div.sk-toggleable__content pre {margin: 0.2em;color: black;border-radius: 0.25em;background-color: #f0f8ff;}#sk-container-id-2 input.sk-toggleable__control:checked~div.sk-toggleable__content {max-height: 200px;max-width: 100%;overflow: auto;}#sk-container-id-2 input.sk-toggleable__control:checked~label.sk-toggleable__label-arrow:before {content: \"▾\";}#sk-container-id-2 div.sk-estimator input.sk-toggleable__control:checked~label.sk-toggleable__label {background-color: #d4ebff;}#sk-container-id-2 div.sk-label input.sk-toggleable__control:checked~label.sk-toggleable__label {background-color: #d4ebff;}#sk-container-id-2 input.sk-hidden--visually {border: 0;clip: rect(1px 1px 1px 1px);clip: rect(1px, 1px, 1px, 1px);height: 1px;margin: -1px;overflow: hidden;padding: 0;position: absolute;width: 1px;}#sk-container-id-2 div.sk-estimator {font-family: monospace;background-color: #f0f8ff;border: 1px dotted black;border-radius: 0.25em;box-sizing: border-box;margin-bottom: 0.5em;}#sk-container-id-2 div.sk-estimator:hover {background-color: #d4ebff;}#sk-container-id-2 div.sk-parallel-item::after {content: \"\";width: 100%;border-bottom: 1px solid gray;flex-grow: 1;}#sk-container-id-2 div.sk-label:hover label.sk-toggleable__label {background-color: #d4ebff;}#sk-container-id-2 div.sk-serial::before {content: \"\";position: absolute;border-left: 1px solid gray;box-sizing: border-box;top: 0;bottom: 0;left: 50%;z-index: 0;}#sk-container-id-2 div.sk-serial {display: flex;flex-direction: column;align-items: center;background-color: white;padding-right: 0.2em;padding-left: 0.2em;position: relative;}#sk-container-id-2 div.sk-item {position: relative;z-index: 1;}#sk-container-id-2 div.sk-parallel {display: flex;align-items: stretch;justify-content: center;background-color: white;position: relative;}#sk-container-id-2 div.sk-item::before, #sk-container-id-2 div.sk-parallel-item::before {content: \"\";position: absolute;border-left: 1px solid gray;box-sizing: border-box;top: 0;bottom: 0;left: 50%;z-index: -1;}#sk-container-id-2 div.sk-parallel-item {display: flex;flex-direction: column;z-index: 1;position: relative;background-color: white;}#sk-container-id-2 div.sk-parallel-item:first-child::after {align-self: flex-end;width: 50%;}#sk-container-id-2 div.sk-parallel-item:last-child::after {align-self: flex-start;width: 50%;}#sk-container-id-2 div.sk-parallel-item:only-child::after {width: 0;}#sk-container-id-2 div.sk-dashed-wrapped {border: 1px dashed gray;margin: 0 0.4em 0.5em 0.4em;box-sizing: border-box;padding-bottom: 0.4em;background-color: white;}#sk-container-id-2 div.sk-label label {font-family: monospace;font-weight: bold;display: inline-block;line-height: 1.2em;}#sk-container-id-2 div.sk-label-container {text-align: center;}#sk-container-id-2 div.sk-container {/* jupyter's `normalize.less` sets `[hidden] { display: none; }` but bootstrap.min.css set `[hidden] { display: none !important; }` so we also need the `!important` here to be able to override the default hidden behavior on the sphinx rendered scikit-learn.org. See: https://github.com/scikit-learn/scikit-learn/issues/21755 */display: inline-block !important;position: relative;}#sk-container-id-2 div.sk-text-repr-fallback {display: none;}</style><div id=\"sk-container-id-2\" class=\"sk-top-container\"><div class=\"sk-text-repr-fallback\"><pre>DecisionTreeClassifier()</pre><b>In a Jupyter environment, please rerun this cell to show the HTML representation or trust the notebook. <br />On GitHub, the HTML representation is unable to render, please try loading this page with nbviewer.org.</b></div><div class=\"sk-container\" hidden><div class=\"sk-item\"><div class=\"sk-estimator sk-toggleable\"><input class=\"sk-toggleable__control sk-hidden--visually\" id=\"sk-estimator-id-2\" type=\"checkbox\" checked><label for=\"sk-estimator-id-2\" class=\"sk-toggleable__label sk-toggleable__label-arrow\">DecisionTreeClassifier</label><div class=\"sk-toggleable__content\"><pre>DecisionTreeClassifier()</pre></div></div></div></div></div>"
      ],
      "text/plain": [
       "DecisionTreeClassifier()"
      ]
     },
     "execution_count": 12,
     "metadata": {},
     "output_type": "execute_result"
    }
   ],
   "source": [
    "# Select the machine learning algorithm and fit the model to the training data\n",
    "clf = DecisionTreeClassifier()\n",
    "clf.fit(X_train, y_train)"
   ]
  },
  {
   "cell_type": "code",
   "execution_count": 13,
   "id": "87f15201",
   "metadata": {},
   "outputs": [],
   "source": [
    "# Use the trained model to make predictions on the test dataset\n",
    "y_pred = clf.predict(X_test)"
   ]
  },
  {
   "cell_type": "code",
   "execution_count": 14,
   "id": "a9ea97a5",
   "metadata": {},
   "outputs": [
    {
     "name": "stdout",
     "output_type": "stream",
     "text": [
      "Accuracy: 0.6373626373626373\n"
     ]
    }
   ],
   "source": [
    "# Evaluate the model's performance by comparing the predicted labels to the actual labels\n",
    "accuracy = accuracy_score(y_test, y_pred)\n",
    "print(\"Accuracy:\", accuracy)"
   ]
  },
  {
   "cell_type": "markdown",
   "id": "133a7760",
   "metadata": {},
   "source": [
    "From data above we can see that we get a higher accuracy score in predictions using GHG Emission (g), N lost (g), Freshwater Withdrawals (L), Stress-Weighted Water Use (L) as compared to just using GHG Emission (g). (0.7362637362637363 > 0.6373626373626373)"
   ]
  },
  {
   "cell_type": "code",
   "execution_count": null,
   "id": "32db4d30",
   "metadata": {},
   "outputs": [],
   "source": []
  }
 ],
 "metadata": {
  "kernelspec": {
   "display_name": "Python 3 (ipykernel)",
   "language": "python",
   "name": "python3"
  },
  "language_info": {
   "codemirror_mode": {
    "name": "ipython",
    "version": 3
   },
   "file_extension": ".py",
   "mimetype": "text/x-python",
   "name": "python",
   "nbconvert_exporter": "python",
   "pygments_lexer": "ipython3",
   "version": "3.10.9"
  }
 },
 "nbformat": 4,
 "nbformat_minor": 5
}
