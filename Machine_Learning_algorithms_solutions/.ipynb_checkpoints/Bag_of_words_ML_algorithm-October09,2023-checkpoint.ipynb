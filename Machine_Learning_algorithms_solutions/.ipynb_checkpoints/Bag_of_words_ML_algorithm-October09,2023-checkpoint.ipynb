{
 "cells": [
  {
   "cell_type": "code",
   "execution_count": null,
   "id": "4842e797",
   "metadata": {},
   "outputs": [],
   "source": []
  },
  {
   "cell_type": "code",
   "execution_count": 1,
   "id": "141a766a",
   "metadata": {},
   "outputs": [],
   "source": [
    "%matplotlib inline\n",
    "import numpy as np\n",
    "import pandas as pd\n",
    "import sklearn\n",
    "import matplotlib.pyplot as plt\n",
    "from sklearn.feature_extraction.text import CountVectorizer\n",
    "from sklearn.metrics import confusion_matrix\n",
    "from sklearn.model_selection import GridSearchCV\n",
    "from sklearn.model_selection import train_test_split\n",
    "from sklearn.model_selection import cross_val_score\n",
    "from sklearn.linear_model import LogisticRegression\n",
    "from sklearn.naive_bayes import MultinomialNB\n",
    "from sklearn.ensemble import RandomForestClassifier\n",
    "from sklearn.feature_extraction.text import CountVectorizer\n"
   ]
  },
  {
   "cell_type": "code",
   "execution_count": 2,
   "id": "6bf1d985",
   "metadata": {},
   "outputs": [],
   "source": [
    "import pandas as pd\n",
    "from sklearn.feature_extraction.text import CountVectorizer\n",
    "from sklearn.model_selection import train_test_split\n",
    "from sklearn.naive_bayes import MultinomialNB\n",
    "from sklearn.metrics import accuracy_score"
   ]
  },
  {
   "cell_type": "code",
   "execution_count": 3,
   "id": "4a59061e",
   "metadata": {},
   "outputs": [],
   "source": [
    "import os\n",
    "import sys\n",
    "\n",
    "import matplotlib.pyplot as plt\n",
    "import numpy as np\n",
    "import numpy.random as npr\n",
    "import pandas as pd\n",
    "from sklearn.compose import (\n",
    "    ColumnTransformer,\n",
    "    TransformedTargetRegressor,\n",
    "    make_column_transformer,\n",
    ")\n",
    "from sklearn.dummy import DummyClassifier, DummyRegressor\n",
    "from sklearn.ensemble import RandomForestRegressor\n",
    "from sklearn.impute import SimpleImputer\n",
    "from sklearn.linear_model import LinearRegression, LogisticRegression, Ridge, RidgeCV\n",
    "from sklearn.metrics import make_scorer, mean_squared_error, r2_score\n",
    "from sklearn.model_selection import cross_val_score, cross_validate, train_test_split\n",
    "from sklearn.pipeline import Pipeline, make_pipeline\n",
    "from sklearn.preprocessing import OneHotEncoder, OrdinalEncoder, StandardScaler\n",
    "from sklearn.svm import SVC"
   ]
  },
  {
   "cell_type": "code",
   "execution_count": 4,
   "id": "0f802496",
   "metadata": {},
   "outputs": [],
   "source": [
    "# data = pd.read_csv(\"C:/Users/smvan/CFFS-S23/CFFS-22-23/data/Machine_Learning_model/Updated_data_Gather22-23_BagOW.csv\")\n",
    "\n",
    "data = pd.read_csv(\"C:/Users/smvan/CFFS-S23/CFFS-22-23/data/Machine_Learning_model/Data_Labelled_Gather22-23_with_name.csv\")\n",
    "\n"
   ]
  },
  {
   "cell_type": "code",
   "execution_count": 5,
   "id": "93b1dbfe",
   "metadata": {},
   "outputs": [
    {
     "data": {
      "text/html": [
       "<div>\n",
       "<style scoped>\n",
       "    .dataframe tbody tr th:only-of-type {\n",
       "        vertical-align: middle;\n",
       "    }\n",
       "\n",
       "    .dataframe tbody tr th {\n",
       "        vertical-align: top;\n",
       "    }\n",
       "\n",
       "    .dataframe thead th {\n",
       "        text-align: right;\n",
       "    }\n",
       "</style>\n",
       "<table border=\"1\" class=\"dataframe\">\n",
       "  <thead>\n",
       "    <tr style=\"text-align: right;\">\n",
       "      <th></th>\n",
       "      <th>Category</th>\n",
       "      <th>Displayed Name</th>\n",
       "      <th>ProdId</th>\n",
       "      <th>Description</th>\n",
       "      <th>SalesGroup</th>\n",
       "      <th>Weight (g)</th>\n",
       "      <th>GHG Emission (g)</th>\n",
       "      <th>N lost (g)</th>\n",
       "      <th>Land Use (m^2)</th>\n",
       "      <th>Freshwater Withdrawals (L)</th>\n",
       "      <th>...</th>\n",
       "      <th>GHG Emission (g) / 100g</th>\n",
       "      <th>N lost (g) / 100g</th>\n",
       "      <th>Freshwater Withdrawals (L) / 100g</th>\n",
       "      <th>Stress-Weighted Water Use (L) / 100g</th>\n",
       "      <th>Land Use (m^2) / 100g</th>\n",
       "      <th>GHG Only Label</th>\n",
       "      <th>Combined Label</th>\n",
       "      <th>RED</th>\n",
       "      <th>YELLOW</th>\n",
       "      <th>GREEN</th>\n",
       "    </tr>\n",
       "  </thead>\n",
       "  <tbody>\n",
       "    <tr>\n",
       "      <th>0</th>\n",
       "      <td>Caliente</td>\n",
       "      <td>Black bean soup</td>\n",
       "      <td>R-54947</td>\n",
       "      <td>CAL|Black bean soup|AAD</td>\n",
       "      <td>GV - CALIENTE</td>\n",
       "      <td>405.0</td>\n",
       "      <td>642.872062</td>\n",
       "      <td>3.699893</td>\n",
       "      <td>3.714369</td>\n",
       "      <td>53.60</td>\n",
       "      <td>...</td>\n",
       "      <td>158.73</td>\n",
       "      <td>0.91</td>\n",
       "      <td>13.23</td>\n",
       "      <td>425.48</td>\n",
       "      <td>0.92</td>\n",
       "      <td>Green</td>\n",
       "      <td>Green</td>\n",
       "      <td>NaN</td>\n",
       "      <td>NaN</td>\n",
       "      <td>True</td>\n",
       "    </tr>\n",
       "    <tr>\n",
       "      <th>1</th>\n",
       "      <td>Caliente</td>\n",
       "      <td>Guacamole bowl</td>\n",
       "      <td>R-55154</td>\n",
       "      <td>CAL|Bowl|Guacamole|AAD</td>\n",
       "      <td>GV - CALIENTE</td>\n",
       "      <td>345.0</td>\n",
       "      <td>577.312312</td>\n",
       "      <td>3.412346</td>\n",
       "      <td>1.652956</td>\n",
       "      <td>115.97</td>\n",
       "      <td>...</td>\n",
       "      <td>167.34</td>\n",
       "      <td>0.99</td>\n",
       "      <td>33.61</td>\n",
       "      <td>881.02</td>\n",
       "      <td>0.48</td>\n",
       "      <td>Green</td>\n",
       "      <td>Green</td>\n",
       "      <td>NaN</td>\n",
       "      <td>NaN</td>\n",
       "      <td>True</td>\n",
       "    </tr>\n",
       "    <tr>\n",
       "      <th>2</th>\n",
       "      <td>Caliente</td>\n",
       "      <td>Havana Add Chicken Bowl</td>\n",
       "      <td>R-62018</td>\n",
       "      <td>CAL|Bowl|Havana|Add Chicken</td>\n",
       "      <td>GV - CALIENTE</td>\n",
       "      <td>430.0</td>\n",
       "      <td>1036.107243</td>\n",
       "      <td>15.532360</td>\n",
       "      <td>3.663406</td>\n",
       "      <td>125.84</td>\n",
       "      <td>...</td>\n",
       "      <td>240.96</td>\n",
       "      <td>3.61</td>\n",
       "      <td>29.27</td>\n",
       "      <td>177.77</td>\n",
       "      <td>0.85</td>\n",
       "      <td>Yellow</td>\n",
       "      <td>Yellow</td>\n",
       "      <td>NaN</td>\n",
       "      <td>True</td>\n",
       "      <td>NaN</td>\n",
       "    </tr>\n",
       "    <tr>\n",
       "      <th>3</th>\n",
       "      <td>Caliente</td>\n",
       "      <td>Havana Add Scallop Bowl</td>\n",
       "      <td>R-64909</td>\n",
       "      <td>CAL|Bowl|Havana|Add Scallop</td>\n",
       "      <td>GV - CALIENTE</td>\n",
       "      <td>390.0</td>\n",
       "      <td>658.333777</td>\n",
       "      <td>6.220997</td>\n",
       "      <td>2.299315</td>\n",
       "      <td>83.40</td>\n",
       "      <td>...</td>\n",
       "      <td>168.80</td>\n",
       "      <td>1.60</td>\n",
       "      <td>21.38</td>\n",
       "      <td>173.71</td>\n",
       "      <td>0.59</td>\n",
       "      <td>Green</td>\n",
       "      <td>Green</td>\n",
       "      <td>NaN</td>\n",
       "      <td>NaN</td>\n",
       "      <td>True</td>\n",
       "    </tr>\n",
       "    <tr>\n",
       "      <th>4</th>\n",
       "      <td>Caliente</td>\n",
       "      <td>Havana Plant-based Bowl</td>\n",
       "      <td>R-35896</td>\n",
       "      <td>CAL|Bowl|Havana|Plant based</td>\n",
       "      <td>GV - CALIENTE</td>\n",
       "      <td>415.0</td>\n",
       "      <td>685.178688</td>\n",
       "      <td>2.802186</td>\n",
       "      <td>2.710241</td>\n",
       "      <td>83.81</td>\n",
       "      <td>...</td>\n",
       "      <td>165.10</td>\n",
       "      <td>0.68</td>\n",
       "      <td>20.20</td>\n",
       "      <td>162.22</td>\n",
       "      <td>0.65</td>\n",
       "      <td>Green</td>\n",
       "      <td>Green</td>\n",
       "      <td>NaN</td>\n",
       "      <td>NaN</td>\n",
       "      <td>True</td>\n",
       "    </tr>\n",
       "  </tbody>\n",
       "</table>\n",
       "<p>5 rows × 21 columns</p>\n",
       "</div>"
      ],
      "text/plain": [
       "    Category            Displayed Name   ProdId                  Description  \\\n",
       "0  Caliente            Black bean soup  R-54947      CAL|Black bean soup|AAD   \n",
       "1  Caliente             Guacamole bowl  R-55154       CAL|Bowl|Guacamole|AAD   \n",
       "2  Caliente    Havana Add Chicken Bowl  R-62018  CAL|Bowl|Havana|Add Chicken   \n",
       "3  Caliente    Havana Add Scallop Bowl  R-64909  CAL|Bowl|Havana|Add Scallop   \n",
       "4  Caliente    Havana Plant-based Bowl  R-35896  CAL|Bowl|Havana|Plant based   \n",
       "\n",
       "      SalesGroup  Weight (g)  GHG Emission (g)  N lost (g)  Land Use (m^2)  \\\n",
       "0  GV - CALIENTE       405.0        642.872062    3.699893        3.714369   \n",
       "1  GV - CALIENTE       345.0        577.312312    3.412346        1.652956   \n",
       "2  GV - CALIENTE       430.0       1036.107243   15.532360        3.663406   \n",
       "3  GV - CALIENTE       390.0        658.333777    6.220997        2.299315   \n",
       "4  GV - CALIENTE       415.0        685.178688    2.802186        2.710241   \n",
       "\n",
       "   Freshwater Withdrawals (L)  ...  GHG Emission (g) / 100g  \\\n",
       "0                       53.60  ...                   158.73   \n",
       "1                      115.97  ...                   167.34   \n",
       "2                      125.84  ...                   240.96   \n",
       "3                       83.40  ...                   168.80   \n",
       "4                       83.81  ...                   165.10   \n",
       "\n",
       "   N lost (g) / 100g  Freshwater Withdrawals (L) / 100g  \\\n",
       "0               0.91                              13.23   \n",
       "1               0.99                              33.61   \n",
       "2               3.61                              29.27   \n",
       "3               1.60                              21.38   \n",
       "4               0.68                              20.20   \n",
       "\n",
       "   Stress-Weighted Water Use (L) / 100g  Land Use (m^2) / 100g  \\\n",
       "0                                425.48                   0.92   \n",
       "1                                881.02                   0.48   \n",
       "2                                177.77                   0.85   \n",
       "3                                173.71                   0.59   \n",
       "4                                162.22                   0.65   \n",
       "\n",
       "   GHG Only Label Combined Label  RED YELLOW GREEN  \n",
       "0           Green          Green  NaN    NaN  True  \n",
       "1           Green          Green  NaN    NaN  True  \n",
       "2          Yellow         Yellow  NaN   True   NaN  \n",
       "3           Green          Green  NaN    NaN  True  \n",
       "4           Green          Green  NaN    NaN  True  \n",
       "\n",
       "[5 rows x 21 columns]"
      ]
     },
     "execution_count": 5,
     "metadata": {},
     "output_type": "execute_result"
    }
   ],
   "source": [
    "data.head()"
   ]
  },
  {
   "cell_type": "code",
   "execution_count": 6,
   "id": "f59cbb2d",
   "metadata": {},
   "outputs": [
    {
     "data": {
      "text/plain": [
       "Green     134\n",
       "Yellow     97\n",
       "Red        72\n",
       "Name: Combined Label, dtype: int64"
      ]
     },
     "execution_count": 6,
     "metadata": {},
     "output_type": "execute_result"
    }
   ],
   "source": [
    "data['Combined Label'].value_counts()"
   ]
  },
  {
   "cell_type": "code",
   "execution_count": 7,
   "id": "8a172321",
   "metadata": {},
   "outputs": [],
   "source": [
    "# Split the data into training and testing sets\n",
    "X = data['Description']\n",
    "y = data['Combined Label']\n",
    "\n",
    "X_train, X_test, y_train, y_test = train_test_split(X, y, test_size=0.2, random_state=42)"
   ]
  },
  {
   "cell_type": "markdown",
   "id": "f7f5b3f4",
   "metadata": {},
   "source": [
    "Feature Extraction"
   ]
  },
  {
   "cell_type": "code",
   "execution_count": 8,
   "id": "04ac466d",
   "metadata": {},
   "outputs": [],
   "source": [
    "from sklearn.feature_extraction.text import TfidfVectorizer, CountVectorizer\n",
    "from sklearn.decomposition import TruncatedSVD\n",
    "from sklearn.pipeline import make_pipeline\n",
    "\n",
    "# Using CountVectorizer with n-grams\n",
    "count_vectorizer = CountVectorizer(ngram_range=(1, 2))\n",
    "\n",
    "# Using TfidfVectorizer\n",
    "tfidf_vectorizer = TfidfVectorizer()\n",
    "\n",
    "# Dimensionality Reduction with PCA\n",
    "pca = TruncatedSVD(n_components=100)  # Assuming we're reducing to 100 components\n"
   ]
  },
  {
   "cell_type": "markdown",
   "id": "79ffe337",
   "metadata": {},
   "source": [
    "Model Training"
   ]
  },
  {
   "cell_type": "code",
   "execution_count": 9,
   "id": "8fcb6fc1",
   "metadata": {},
   "outputs": [
    {
     "name": "stdout",
     "output_type": "stream",
     "text": [
      "Collecting en-core-web-sm==3.5.0\n",
      "  Downloading https://github.com/explosion/spacy-models/releases/download/en_core_web_sm-3.5.0/en_core_web_sm-3.5.0-py3-none-any.whl (12.8 MB)\n",
      "     --------------------------------------- 12.8/12.8 MB 19.8 MB/s eta 0:00:00\n",
      "Requirement already satisfied: spacy<3.6.0,>=3.5.0 in c:\\users\\smvan\\anaconda3\\lib\\site-packages (from en-core-web-sm==3.5.0) (3.5.3)\n",
      "Requirement already satisfied: srsly<3.0.0,>=2.4.3 in c:\\users\\smvan\\anaconda3\\lib\\site-packages (from spacy<3.6.0,>=3.5.0->en-core-web-sm==3.5.0) (2.4.6)\n",
      "Requirement already satisfied: packaging>=20.0 in c:\\users\\smvan\\anaconda3\\lib\\site-packages (from spacy<3.6.0,>=3.5.0->en-core-web-sm==3.5.0) (22.0)\n",
      "Requirement already satisfied: spacy-loggers<2.0.0,>=1.0.0 in c:\\users\\smvan\\anaconda3\\lib\\site-packages (from spacy<3.6.0,>=3.5.0->en-core-web-sm==3.5.0) (1.0.4)\n",
      "Requirement already satisfied: wasabi<1.2.0,>=0.9.1 in c:\\users\\smvan\\anaconda3\\lib\\site-packages (from spacy<3.6.0,>=3.5.0->en-core-web-sm==3.5.0) (1.1.2)\n",
      "Requirement already satisfied: thinc<8.2.0,>=8.1.8 in c:\\users\\smvan\\anaconda3\\lib\\site-packages (from spacy<3.6.0,>=3.5.0->en-core-web-sm==3.5.0) (8.1.10)\n",
      "Requirement already satisfied: pydantic!=1.8,!=1.8.1,<1.11.0,>=1.7.4 in c:\\users\\smvan\\anaconda3\\lib\\site-packages (from spacy<3.6.0,>=3.5.0->en-core-web-sm==3.5.0) (1.10.7)\n",
      "Requirement already satisfied: typer<0.8.0,>=0.3.0 in c:\\users\\smvan\\anaconda3\\lib\\site-packages (from spacy<3.6.0,>=3.5.0->en-core-web-sm==3.5.0) (0.7.0)\n",
      "Requirement already satisfied: setuptools in c:\\users\\smvan\\anaconda3\\lib\\site-packages (from spacy<3.6.0,>=3.5.0->en-core-web-sm==3.5.0) (65.6.3)\n",
      "Requirement already satisfied: pathy>=0.10.0 in c:\\users\\smvan\\anaconda3\\lib\\site-packages (from spacy<3.6.0,>=3.5.0->en-core-web-sm==3.5.0) (0.10.1)\n",
      "Requirement already satisfied: spacy-legacy<3.1.0,>=3.0.11 in c:\\users\\smvan\\anaconda3\\lib\\site-packages (from spacy<3.6.0,>=3.5.0->en-core-web-sm==3.5.0) (3.0.12)\n",
      "Requirement already satisfied: requests<3.0.0,>=2.13.0 in c:\\users\\smvan\\anaconda3\\lib\\site-packages (from spacy<3.6.0,>=3.5.0->en-core-web-sm==3.5.0) (2.28.1)\n",
      "Requirement already satisfied: tqdm<5.0.0,>=4.38.0 in c:\\users\\smvan\\anaconda3\\lib\\site-packages (from spacy<3.6.0,>=3.5.0->en-core-web-sm==3.5.0) (4.64.1)\n",
      "Requirement already satisfied: numpy>=1.15.0 in c:\\users\\smvan\\anaconda3\\lib\\site-packages (from spacy<3.6.0,>=3.5.0->en-core-web-sm==3.5.0) (1.23.5)\n",
      "Requirement already satisfied: catalogue<2.1.0,>=2.0.6 in c:\\users\\smvan\\anaconda3\\lib\\site-packages (from spacy<3.6.0,>=3.5.0->en-core-web-sm==3.5.0) (2.0.8)\n",
      "Requirement already satisfied: jinja2 in c:\\users\\smvan\\anaconda3\\lib\\site-packages (from spacy<3.6.0,>=3.5.0->en-core-web-sm==3.5.0) (3.1.2)\n",
      "Requirement already satisfied: smart-open<7.0.0,>=5.2.1 in c:\\users\\smvan\\anaconda3\\lib\\site-packages (from spacy<3.6.0,>=3.5.0->en-core-web-sm==3.5.0) (5.2.1)\n",
      "Requirement already satisfied: murmurhash<1.1.0,>=0.28.0 in c:\\users\\smvan\\anaconda3\\lib\\site-packages (from spacy<3.6.0,>=3.5.0->en-core-web-sm==3.5.0) (1.0.9)\n",
      "Requirement already satisfied: langcodes<4.0.0,>=3.2.0 in c:\\users\\smvan\\anaconda3\\lib\\site-packages (from spacy<3.6.0,>=3.5.0->en-core-web-sm==3.5.0) (3.3.0)\n",
      "Requirement already satisfied: cymem<2.1.0,>=2.0.2 in c:\\users\\smvan\\anaconda3\\lib\\site-packages (from spacy<3.6.0,>=3.5.0->en-core-web-sm==3.5.0) (2.0.7)\n",
      "Requirement already satisfied: preshed<3.1.0,>=3.0.2 in c:\\users\\smvan\\anaconda3\\lib\\site-packages (from spacy<3.6.0,>=3.5.0->en-core-web-sm==3.5.0) (3.0.8)\n",
      "Requirement already satisfied: typing-extensions>=4.2.0 in c:\\users\\smvan\\anaconda3\\lib\\site-packages (from pydantic!=1.8,!=1.8.1,<1.11.0,>=1.7.4->spacy<3.6.0,>=3.5.0->en-core-web-sm==3.5.0) (4.4.0)\n",
      "Requirement already satisfied: certifi>=2017.4.17 in c:\\users\\smvan\\anaconda3\\lib\\site-packages (from requests<3.0.0,>=2.13.0->spacy<3.6.0,>=3.5.0->en-core-web-sm==3.5.0) (2023.5.7)\n",
      "Requirement already satisfied: idna<4,>=2.5 in c:\\users\\smvan\\anaconda3\\lib\\site-packages (from requests<3.0.0,>=2.13.0->spacy<3.6.0,>=3.5.0->en-core-web-sm==3.5.0) (3.4)\n",
      "Requirement already satisfied: charset-normalizer<3,>=2 in c:\\users\\smvan\\anaconda3\\lib\\site-packages (from requests<3.0.0,>=2.13.0->spacy<3.6.0,>=3.5.0->en-core-web-sm==3.5.0) (2.1.1)\n",
      "Requirement already satisfied: urllib3<1.27,>=1.21.1 in c:\\users\\smvan\\anaconda3\\lib\\site-packages (from requests<3.0.0,>=2.13.0->spacy<3.6.0,>=3.5.0->en-core-web-sm==3.5.0) (1.26.15)\n",
      "Requirement already satisfied: blis<0.8.0,>=0.7.8 in c:\\users\\smvan\\anaconda3\\lib\\site-packages (from thinc<8.2.0,>=8.1.8->spacy<3.6.0,>=3.5.0->en-core-web-sm==3.5.0) (0.7.9)\n",
      "Requirement already satisfied: confection<1.0.0,>=0.0.1 in c:\\users\\smvan\\anaconda3\\lib\\site-packages (from thinc<8.2.0,>=8.1.8->spacy<3.6.0,>=3.5.0->en-core-web-sm==3.5.0) (0.0.4)\n",
      "Requirement already satisfied: colorama in c:\\users\\smvan\\anaconda3\\lib\\site-packages (from tqdm<5.0.0,>=4.38.0->spacy<3.6.0,>=3.5.0->en-core-web-sm==3.5.0) (0.4.6)\n",
      "Requirement already satisfied: click<9.0.0,>=7.1.1 in c:\\users\\smvan\\anaconda3\\lib\\site-packages (from typer<0.8.0,>=0.3.0->spacy<3.6.0,>=3.5.0->en-core-web-sm==3.5.0) (8.1.3)\n",
      "Requirement already satisfied: MarkupSafe>=2.0 in c:\\users\\smvan\\anaconda3\\lib\\site-packages (from jinja2->spacy<3.6.0,>=3.5.0->en-core-web-sm==3.5.0) (2.1.1)\n",
      "\u001b[38;5;2m[+] Download and installation successful\u001b[0m\n",
      "You can now load the package via spacy.load('en_core_web_sm')\n"
     ]
    }
   ],
   "source": [
    "!python -m spacy download en_core_web_sm"
   ]
  },
  {
   "cell_type": "code",
   "execution_count": 10,
   "id": "4881229e",
   "metadata": {},
   "outputs": [],
   "source": [
    "import spacy\n",
    "nlp = spacy.load('en_core_web_sm')"
   ]
  },
  {
   "cell_type": "code",
   "execution_count": 11,
   "id": "a492bb42",
   "metadata": {},
   "outputs": [
    {
     "data": {
      "text/plain": [
       "0.6327380952380952"
      ]
     },
     "execution_count": 11,
     "metadata": {},
     "output_type": "execute_result"
    }
   ],
   "source": [
    "from sklearn.ensemble import RandomForestClassifier\n",
    "from sklearn.model_selection import cross_val_score\n",
    "from sklearn.pipeline import make_pipeline\n",
    "import spacy\n",
    "\n",
    "# Load spacy model\n",
    "nlp = spacy.load(\"en_core_web_sm\")\n",
    "\n",
    "# Create a function to compute average word vector\n",
    "def get_word_vectors(doc):\n",
    "    return [nlp(text).vector for text in doc]\n",
    "\n",
    "# Ensemble using RandomForest\n",
    "clf = RandomForestClassifier()\n",
    "\n",
    "# Pipeline with CountVectorizer and RandomForest\n",
    "pipe_count = make_pipeline(count_vectorizer, pca, clf)\n",
    "cross_val_score(pipe_count, X_train, y_train, cv=5).mean()\n",
    "\n",
    "# Pipeline with TF-IDF and RandomForest\n",
    "pipe_tfidf = make_pipeline(tfidf_vectorizer, pca, clf)\n",
    "cross_val_score(pipe_tfidf, X_train, y_train, cv=5).mean()"
   ]
  },
  {
   "cell_type": "code",
   "execution_count": 12,
   "id": "c0bce213",
   "metadata": {},
   "outputs": [
    {
     "name": "stdout",
     "output_type": "stream",
     "text": [
      "Requirement already satisfied: shap in c:\\users\\smvan\\anaconda3\\lib\\site-packages (0.43.0)\n",
      "Requirement already satisfied: eli5 in c:\\users\\smvan\\anaconda3\\lib\\site-packages (0.13.0)\n",
      "Requirement already satisfied: tqdm>=4.27.0 in c:\\users\\smvan\\anaconda3\\lib\\site-packages (from shap) (4.64.1)\n",
      "Requirement already satisfied: scipy in c:\\users\\smvan\\anaconda3\\lib\\site-packages (from shap) (1.10.0)\n",
      "Requirement already satisfied: pandas in c:\\users\\smvan\\anaconda3\\lib\\site-packages (from shap) (1.5.3)\n",
      "Requirement already satisfied: numpy in c:\\users\\smvan\\anaconda3\\lib\\site-packages (from shap) (1.23.5)\n",
      "Requirement already satisfied: numba in c:\\users\\smvan\\anaconda3\\lib\\site-packages (from shap) (0.56.4)\n",
      "Requirement already satisfied: cloudpickle in c:\\users\\smvan\\anaconda3\\lib\\site-packages (from shap) (2.0.0)\n",
      "Requirement already satisfied: packaging>20.9 in c:\\users\\smvan\\anaconda3\\lib\\site-packages (from shap) (22.0)\n",
      "Requirement already satisfied: scikit-learn in c:\\users\\smvan\\anaconda3\\lib\\site-packages (from shap) (1.2.1)\n",
      "Requirement already satisfied: slicer==0.0.7 in c:\\users\\smvan\\anaconda3\\lib\\site-packages (from shap) (0.0.7)\n",
      "Requirement already satisfied: tabulate>=0.7.7 in c:\\users\\smvan\\anaconda3\\lib\\site-packages (from eli5) (0.8.10)\n",
      "Requirement already satisfied: jinja2>=3.0.0 in c:\\users\\smvan\\anaconda3\\lib\\site-packages (from eli5) (3.1.2)\n",
      "Requirement already satisfied: attrs>17.1.0 in c:\\users\\smvan\\anaconda3\\lib\\site-packages (from eli5) (22.1.0)\n",
      "Requirement already satisfied: graphviz in c:\\users\\smvan\\anaconda3\\lib\\site-packages (from eli5) (0.20.1)\n",
      "Requirement already satisfied: six in c:\\users\\smvan\\anaconda3\\lib\\site-packages (from eli5) (1.16.0)\n",
      "Requirement already satisfied: MarkupSafe>=2.0 in c:\\users\\smvan\\anaconda3\\lib\\site-packages (from jinja2>=3.0.0->eli5) (2.1.1)\n",
      "Requirement already satisfied: threadpoolctl>=2.0.0 in c:\\users\\smvan\\anaconda3\\lib\\site-packages (from scikit-learn->shap) (2.2.0)\n",
      "Requirement already satisfied: joblib>=1.1.1 in c:\\users\\smvan\\anaconda3\\lib\\site-packages (from scikit-learn->shap) (1.1.1)\n",
      "Requirement already satisfied: colorama in c:\\users\\smvan\\anaconda3\\lib\\site-packages (from tqdm>=4.27.0->shap) (0.4.6)\n",
      "Requirement already satisfied: setuptools in c:\\users\\smvan\\anaconda3\\lib\\site-packages (from numba->shap) (65.6.3)\n",
      "Requirement already satisfied: llvmlite<0.40,>=0.39.0dev0 in c:\\users\\smvan\\anaconda3\\lib\\site-packages (from numba->shap) (0.39.1)\n",
      "Requirement already satisfied: python-dateutil>=2.8.1 in c:\\users\\smvan\\anaconda3\\lib\\site-packages (from pandas->shap) (2.8.2)\n",
      "Requirement already satisfied: pytz>=2020.1 in c:\\users\\smvan\\anaconda3\\lib\\site-packages (from pandas->shap) (2022.7)\n"
     ]
    }
   ],
   "source": [
    "!pip install shap eli5"
   ]
  },
  {
   "cell_type": "code",
   "execution_count": 13,
   "id": "efcdee94",
   "metadata": {},
   "outputs": [],
   "source": [
    "import shap\n",
    "import eli5"
   ]
  },
  {
   "cell_type": "markdown",
   "id": "d9a796b4",
   "metadata": {},
   "source": [
    "Using CountVectorizer"
   ]
  },
  {
   "cell_type": "code",
   "execution_count": 14,
   "id": "ab8d89c5",
   "metadata": {},
   "outputs": [
    {
     "data": {
      "image/png": "[encoded data removed]",
      "text/plain": [
       "<Figure size 800x950 with 1 Axes>"
      ]
     },
     "metadata": {},
     "output_type": "display_data"
    },
    {
     "ename": "ValueError",
     "evalue": "feature_names has a wrong length: expected=100, got=863",
     "output_type": "error",
     "traceback": [
      "\u001b[1;31m---------------------------------------------------------------------------\u001b[0m",
      "\u001b[1;31mValueError\u001b[0m                                Traceback (most recent call last)",
      "Cell \u001b[1;32mIn[14], line 33\u001b[0m\n\u001b[0;32m     30\u001b[0m vectorizer_from_pipe \u001b[38;5;241m=\u001b[39m pipe_count\u001b[38;5;241m.\u001b[39mnamed_steps[\u001b[38;5;124m'\u001b[39m\u001b[38;5;124mcountvectorizer\u001b[39m\u001b[38;5;124m'\u001b[39m]\n\u001b[0;32m     32\u001b[0m \u001b[38;5;66;03m# Now, use its feature names with eli5\u001b[39;00m\n\u001b[1;32m---> 33\u001b[0m \u001b[43meli5\u001b[49m\u001b[38;5;241;43m.\u001b[39;49m\u001b[43mshow_prediction\u001b[49m\u001b[43m(\u001b[49m\u001b[43mclf\u001b[49m\u001b[43m,\u001b[49m\u001b[43m \u001b[49m\u001b[43mX_test_transformed\u001b[49m\u001b[43m[\u001b[49m\u001b[38;5;241;43m0\u001b[39;49m\u001b[43m]\u001b[49m\u001b[43m,\u001b[49m\u001b[43m \u001b[49m\u001b[43mfeature_names\u001b[49m\u001b[38;5;241;43m=\u001b[39;49m\u001b[43mvectorizer_from_pipe\u001b[49m\u001b[38;5;241;43m.\u001b[39;49m\u001b[43mget_feature_names_out\u001b[49m\u001b[43m(\u001b[49m\u001b[43m)\u001b[49m\u001b[43m)\u001b[49m\n",
      "File \u001b[1;32m~\\anaconda3\\lib\\site-packages\\eli5\\ipython.py:307\u001b[0m, in \u001b[0;36mshow_prediction\u001b[1;34m(estimator, doc, **kwargs)\u001b[0m\n\u001b[0;32m    137\u001b[0m \u001b[38;5;124;03m\"\"\" Return an explanation of estimator prediction\u001b[39;00m\n\u001b[0;32m    138\u001b[0m \u001b[38;5;124;03mas an IPython.display.HTML object. Use this function\u001b[39;00m\n\u001b[0;32m    139\u001b[0m \u001b[38;5;124;03mto show information about classifier prediction in IPython.\u001b[39;00m\n\u001b[1;32m   (...)\u001b[0m\n\u001b[0;32m    304\u001b[0m \n\u001b[0;32m    305\u001b[0m \u001b[38;5;124;03m\"\"\"\u001b[39;00m\n\u001b[0;32m    306\u001b[0m format_kwargs, explain_kwargs \u001b[38;5;241m=\u001b[39m _split_kwargs(kwargs)\n\u001b[1;32m--> 307\u001b[0m expl \u001b[38;5;241m=\u001b[39m explain_prediction(estimator, doc, \u001b[38;5;241m*\u001b[39m\u001b[38;5;241m*\u001b[39mexplain_kwargs)\n\u001b[0;32m    308\u001b[0m \u001b[38;5;28;01mif\u001b[39;00m expl\u001b[38;5;241m.\u001b[39mimage \u001b[38;5;129;01mis\u001b[39;00m \u001b[38;5;129;01mnot\u001b[39;00m \u001b[38;5;28;01mNone\u001b[39;00m:\n\u001b[0;32m    309\u001b[0m     \u001b[38;5;66;03m# dispatch to image display implementation\u001b[39;00m\n\u001b[0;32m    310\u001b[0m     \u001b[38;5;28;01mif\u001b[39;00m \u001b[38;5;28misinstance\u001b[39m(format_as_image, \u001b[38;5;167;01mImportError\u001b[39;00m):\n",
      "File \u001b[1;32m~\\anaconda3\\lib\\functools.py:889\u001b[0m, in \u001b[0;36msingledispatch.<locals>.wrapper\u001b[1;34m(*args, **kw)\u001b[0m\n\u001b[0;32m    885\u001b[0m \u001b[38;5;28;01mif\u001b[39;00m \u001b[38;5;129;01mnot\u001b[39;00m args:\n\u001b[0;32m    886\u001b[0m     \u001b[38;5;28;01mraise\u001b[39;00m \u001b[38;5;167;01mTypeError\u001b[39;00m(\u001b[38;5;124mf\u001b[39m\u001b[38;5;124m'\u001b[39m\u001b[38;5;132;01m{\u001b[39;00mfuncname\u001b[38;5;132;01m}\u001b[39;00m\u001b[38;5;124m requires at least \u001b[39m\u001b[38;5;124m'\u001b[39m\n\u001b[0;32m    887\u001b[0m                     \u001b[38;5;124m'\u001b[39m\u001b[38;5;124m1 positional argument\u001b[39m\u001b[38;5;124m'\u001b[39m)\n\u001b[1;32m--> 889\u001b[0m \u001b[38;5;28;01mreturn\u001b[39;00m dispatch(args[\u001b[38;5;241m0\u001b[39m]\u001b[38;5;241m.\u001b[39m\u001b[38;5;18m__class__\u001b[39m)(\u001b[38;5;241m*\u001b[39margs, \u001b[38;5;241m*\u001b[39m\u001b[38;5;241m*\u001b[39mkw)\n",
      "File \u001b[1;32m~\\anaconda3\\lib\\site-packages\\eli5\\sklearn\\explain_prediction.py:399\u001b[0m, in \u001b[0;36mexplain_prediction_tree_classifier\u001b[1;34m(clf, doc, vec, top, top_targets, target_names, targets, feature_names, feature_re, feature_filter, vectorized)\u001b[0m\n\u001b[0;32m    359\u001b[0m \u001b[38;5;129m@register\u001b[39m(DecisionTreeClassifier)\n\u001b[0;32m    360\u001b[0m \u001b[38;5;129m@register\u001b[39m(ExtraTreesClassifier)\n\u001b[0;32m    361\u001b[0m \u001b[38;5;129m@register\u001b[39m(GradientBoostingClassifier)\n\u001b[1;32m   (...)\u001b[0m\n\u001b[0;32m    372\u001b[0m         feature_filter\u001b[38;5;241m=\u001b[39m\u001b[38;5;28;01mNone\u001b[39;00m,\n\u001b[0;32m    373\u001b[0m         vectorized\u001b[38;5;241m=\u001b[39m\u001b[38;5;28;01mFalse\u001b[39;00m):\n\u001b[0;32m    374\u001b[0m     \u001b[38;5;124;03m\"\"\" Explain prediction of a tree classifier.\u001b[39;00m\n\u001b[0;32m    375\u001b[0m \n\u001b[0;32m    376\u001b[0m \u001b[38;5;124;03m    See :func:`eli5.explain_prediction` for description of\u001b[39;00m\n\u001b[1;32m   (...)\u001b[0m\n\u001b[0;32m    397\u001b[0m \u001b[38;5;124;03m    Weights of all features sum to the output score or proba of the estimator.\u001b[39;00m\n\u001b[0;32m    398\u001b[0m \u001b[38;5;124;03m    \"\"\"\u001b[39;00m\n\u001b[1;32m--> 399\u001b[0m     vec, feature_names \u001b[38;5;241m=\u001b[39m \u001b[43mhandle_vec\u001b[49m\u001b[43m(\u001b[49m\u001b[43mclf\u001b[49m\u001b[43m,\u001b[49m\u001b[43m \u001b[49m\u001b[43mdoc\u001b[49m\u001b[43m,\u001b[49m\u001b[43m \u001b[49m\u001b[43mvec\u001b[49m\u001b[43m,\u001b[49m\u001b[43m \u001b[49m\u001b[43mvectorized\u001b[49m\u001b[43m,\u001b[49m\u001b[43m \u001b[49m\u001b[43mfeature_names\u001b[49m\u001b[43m)\u001b[49m\n\u001b[0;32m    400\u001b[0m     X \u001b[38;5;241m=\u001b[39m get_X(doc, vec\u001b[38;5;241m=\u001b[39mvec, vectorized\u001b[38;5;241m=\u001b[39mvectorized)\n\u001b[0;32m    401\u001b[0m     \u001b[38;5;28;01mif\u001b[39;00m feature_names\u001b[38;5;241m.\u001b[39mbias_name \u001b[38;5;129;01mis\u001b[39;00m \u001b[38;5;28;01mNone\u001b[39;00m:\n\u001b[0;32m    402\u001b[0m         \u001b[38;5;66;03m# Tree estimators do not have an intercept, but here we interpret\u001b[39;00m\n\u001b[0;32m    403\u001b[0m         \u001b[38;5;66;03m# them as having an intercept\u001b[39;00m\n",
      "File \u001b[1;32m~\\anaconda3\\lib\\site-packages\\eli5\\sklearn\\utils.py:261\u001b[0m, in \u001b[0;36mhandle_vec\u001b[1;34m(clf, doc, vec, vectorized, feature_names, num_features)\u001b[0m\n\u001b[0;32m    257\u001b[0m \u001b[38;5;66;03m# Explaining predictions does not need coef_scale\u001b[39;00m\n\u001b[0;32m    258\u001b[0m \u001b[38;5;66;03m# because it is handled by the vectorizer.\u001b[39;00m\n\u001b[0;32m    259\u001b[0m feature_names \u001b[38;5;241m=\u001b[39m handle_hashing_vec(\n\u001b[0;32m    260\u001b[0m     vec, feature_names, coef_scale\u001b[38;5;241m=\u001b[39m\u001b[38;5;28;01mNone\u001b[39;00m, with_coef_scale\u001b[38;5;241m=\u001b[39m\u001b[38;5;28;01mFalse\u001b[39;00m)\n\u001b[1;32m--> 261\u001b[0m feature_names \u001b[38;5;241m=\u001b[39m \u001b[43mget_feature_names\u001b[49m\u001b[43m(\u001b[49m\n\u001b[0;32m    262\u001b[0m \u001b[43m    \u001b[49m\u001b[43mclf\u001b[49m\u001b[43m,\u001b[49m\u001b[43m \u001b[49m\u001b[43mvec\u001b[49m\u001b[43m,\u001b[49m\u001b[43m \u001b[49m\u001b[43mfeature_names\u001b[49m\u001b[38;5;241;43m=\u001b[39;49m\u001b[43mfeature_names\u001b[49m\u001b[43m,\u001b[49m\u001b[43m \u001b[49m\u001b[43mnum_features\u001b[49m\u001b[38;5;241;43m=\u001b[39;49m\u001b[43mnum_features\u001b[49m\u001b[43m)\u001b[49m\n\u001b[0;32m    263\u001b[0m \u001b[38;5;28;01mreturn\u001b[39;00m vec, feature_names\n",
      "File \u001b[1;32m~\\anaconda3\\lib\\site-packages\\eli5\\sklearn\\utils.py:109\u001b[0m, in \u001b[0;36mget_feature_names\u001b[1;34m(clf, vec, bias_name, feature_names, num_features, estimator_feature_names)\u001b[0m\n\u001b[0;32m    107\u001b[0m \u001b[38;5;28;01melse\u001b[39;00m:\n\u001b[0;32m    108\u001b[0m     \u001b[38;5;28;01mif\u001b[39;00m \u001b[38;5;28mlen\u001b[39m(feature_names) \u001b[38;5;241m!=\u001b[39m num_features:\n\u001b[1;32m--> 109\u001b[0m         \u001b[38;5;28;01mraise\u001b[39;00m \u001b[38;5;167;01mValueError\u001b[39;00m(\u001b[38;5;124m\"\u001b[39m\u001b[38;5;124mfeature_names has a wrong length: \u001b[39m\u001b[38;5;124m\"\u001b[39m\n\u001b[0;32m    110\u001b[0m                          \u001b[38;5;124m\"\u001b[39m\u001b[38;5;124mexpected=\u001b[39m\u001b[38;5;132;01m%d\u001b[39;00m\u001b[38;5;124m, got=\u001b[39m\u001b[38;5;132;01m%d\u001b[39;00m\u001b[38;5;124m\"\u001b[39m \u001b[38;5;241m%\u001b[39m (num_features,\n\u001b[0;32m    111\u001b[0m                                                   \u001b[38;5;28mlen\u001b[39m(feature_names)))\n\u001b[0;32m    112\u001b[0m     \u001b[38;5;28;01mreturn\u001b[39;00m FeatureNames(feature_names, bias_name\u001b[38;5;241m=\u001b[39mbias_name)\n",
      "\u001b[1;31mValueError\u001b[0m: feature_names has a wrong length: expected=100, got=863"
     ]
    }
   ],
   "source": [
    "import shap\n",
    "import eli5\n",
    "\n",
    "# Fit the pipeline with CountVectorizer for visualization\n",
    "pipe_count.fit(X_train, y_train)\n",
    "\n",
    "# Transform X_train with CountVectorizer\n",
    "X_transformed = count_vectorizer.transform(X_train).todense()\n",
    "\n",
    "# Calculate SHAP values\n",
    "explainer = shap.TreeExplainer(pipe_count.named_steps['randomforestclassifier'])\n",
    "shap_values = explainer.shap_values(X_transformed)\n",
    "\n",
    "# Plot using SHAP\n",
    "X_df = pd.DataFrame(X_transformed, columns=count_vectorizer.get_feature_names_out())\n",
    "shap.summary_plot(shap_values, X_df)\n",
    "\n",
    "# Visualize with ELI5\n",
    "# Using the original pipeline's classifier and vectorizer to visualize\n",
    "\n",
    "# Transform the specific test instance with the CountVectorizer:\n",
    "X_test_transformed = count_vectorizer.transform([X_test.iloc[0]])\n",
    "\n",
    "# Then use the transformed data with the eli5.show_prediction method:\n",
    "# Visualize with ELI5\n",
    "# Using the original pipeline's classifier and vectorizer to visualize\n",
    "clf = pipe_count.named_steps['randomforestclassifier']\n",
    "\n",
    "# Fetch the vectorizer directly from the pipeline\n",
    "vectorizer_from_pipe = pipe_count.named_steps['countvectorizer']\n",
    "\n",
    "# Now, use its feature names with eli5\n",
    "eli5.show_prediction(clf, X_test_transformed[0], feature_names=vectorizer_from_pipe.get_feature_names_out())"
   ]
  },
  {
   "cell_type": "markdown",
   "id": "844f9bf5",
   "metadata": {},
   "source": [
    "Using TfidfVectorizer"
   ]
  },
  {
   "cell_type": "code",
   "execution_count": 15,
   "id": "9a0cde38",
   "metadata": {},
   "outputs": [
    {
     "name": "stdout",
     "output_type": "stream",
     "text": [
      "['Red' 'Green' 'Green' 'Green' 'Yellow' 'Green' 'Green' 'Yellow' 'Red'\n",
      " 'Green' 'Green' 'Green' 'Green' 'Yellow' 'Green' 'Green' 'Green' 'Red'\n",
      " 'Green' 'Green' 'Green' 'Red' 'Yellow' 'Yellow' 'Green' 'Green' 'Red'\n",
      " 'Green' 'Yellow' 'Green' 'Green' 'Green' 'Yellow' 'Green' 'Yellow'\n",
      " 'Green' 'Green' 'Green' 'Yellow' 'Yellow' 'Green' 'Green' 'Green' 'Green'\n",
      " 'Green' 'Red' 'Green' 'Green' 'Green' 'Green' 'Yellow' 'Red' 'Yellow'\n",
      " 'Green' 'Red' 'Green' 'Red' 'Green' 'Green' 'Red' 'Green']\n",
      "0.5573770491803278\n",
      "  (0, 10)\t1\n",
      "  (0, 38)\t1\n",
      "  (0, 60)\t1\n",
      "  (0, 131)\t1\n",
      "  (1, 112)\t1\n",
      "  (1, 190)\t1\n",
      "  (2, 10)\t1\n",
      "  (2, 46)\t1\n",
      "  (2, 109)\t1\n",
      "  (2, 235)\t1\n",
      "  (2, 240)\t1\n",
      "  (3, 38)\t1\n",
      "  (3, 227)\t1\n",
      "  (3, 250)\t1\n",
      "  (3, 293)\t1\n",
      "  (4, 25)\t1\n",
      "  (4, 95)\t1\n",
      "  (4, 233)\t1\n",
      "  (5, 64)\t1\n",
      "  (5, 146)\t1\n",
      "  (6, 10)\t1\n",
      "  (6, 109)\t1\n",
      "  (6, 190)\t1\n",
      "  (7, 10)\t1\n",
      "  (7, 112)\t1\n",
      "  :\t:\n",
      "  (54, 32)\t1\n",
      "  (54, 54)\t1\n",
      "  (54, 250)\t1\n",
      "  (55, 10)\t1\n",
      "  (55, 131)\t1\n",
      "  (55, 237)\t1\n",
      "  (55, 291)\t1\n",
      "  (56, 71)\t1\n",
      "  (56, 250)\t1\n",
      "  (56, 280)\t1\n",
      "  (57, 10)\t1\n",
      "  (57, 46)\t1\n",
      "  (57, 109)\t1\n",
      "  (57, 147)\t1\n",
      "  (58, 221)\t1\n",
      "  (58, 250)\t1\n",
      "  (58, 268)\t1\n",
      "  (59, 60)\t1\n",
      "  (59, 71)\t1\n",
      "  (59, 73)\t1\n",
      "  (59, 131)\t1\n",
      "  (59, 279)\t1\n",
      "  (60, 60)\t1\n",
      "  (60, 126)\t1\n",
      "  (60, 131)\t1\n"
     ]
    },
    {
     "ename": "NameError",
     "evalue": "name 'X_transformed_test' is not defined",
     "output_type": "error",
     "traceback": [
      "\u001b[1;31m---------------------------------------------------------------------------\u001b[0m",
      "\u001b[1;31mNameError\u001b[0m                                 Traceback (most recent call last)",
      "Cell \u001b[1;32mIn[15], line 41\u001b[0m\n\u001b[0;32m     39\u001b[0m \u001b[38;5;66;03m# Compute SHAP values\u001b[39;00m\n\u001b[0;32m     40\u001b[0m explainer \u001b[38;5;241m=\u001b[39m shap\u001b[38;5;241m.\u001b[39mTreeExplainer(clf)  \u001b[38;5;66;03m# assuming a tree-based model\u001b[39;00m\n\u001b[1;32m---> 41\u001b[0m shap_values \u001b[38;5;241m=\u001b[39m explainer\u001b[38;5;241m.\u001b[39mshap_values(\u001b[43mX_transformed_test\u001b[49m)\n\u001b[0;32m     43\u001b[0m \u001b[38;5;66;03m# Calculate mean absolute SHAP values\u001b[39;00m\n\u001b[0;32m     44\u001b[0m mean_abs_shap \u001b[38;5;241m=\u001b[39m np\u001b[38;5;241m.\u001b[39mmean(np\u001b[38;5;241m.\u001b[39mabs(shap_values), axis\u001b[38;5;241m=\u001b[39m\u001b[38;5;241m0\u001b[39m)\n",
      "\u001b[1;31mNameError\u001b[0m: name 'X_transformed_test' is not defined"
     ]
    }
   ],
   "source": [
    "import spacy\n",
    "import shap\n",
    "from sklearn.ensemble import RandomForestClassifier\n",
    "from sklearn.feature_extraction.text import CountVectorizer\n",
    "\n",
    "# Load the English model\n",
    "nlp = spacy.load(\"en_core_web_sm\")\n",
    "\n",
    "def preprocess(text):\n",
    "    doc = nlp(text)\n",
    "    # Lemmatize and filter out pronouns, punctuations, and determiners\n",
    "    tokens = [token.lemma_ for token in doc if token.pos_ not in ('PRON', 'PUNCT', 'DET')]\n",
    "    return ' '.join(tokens)\n",
    "\n",
    "# Preprocess the data\n",
    "X_train_processed = [preprocess(text) for text in X_train]\n",
    "X_test_processed = [preprocess(text) for text in X_test]\n",
    "\n",
    "# Re-vectorize the preprocessed data\n",
    "count_vectorizer = CountVectorizer(max_features=1000)  # Adjust the number of features as necessary\n",
    "X_train_transformed = count_vectorizer.fit_transform(X_train_processed)\n",
    "X_test_transformed = count_vectorizer.transform(X_test_processed)\n",
    "\n",
    "# Train the model again\n",
    "clf = RandomForestClassifier()\n",
    "clf.fit(X_train_transformed, y_train)\n",
    "y_pred = clf.predict(X_test_transformed)\n",
    "\n",
    "\n",
    "\n",
    "print(y_pred)\n",
    "from sklearn.metrics import accuracy_score\n",
    "print(accuracy_score(y_test, y_pred))\n",
    "print(X_test_transformed)\n",
    "\n",
    "import shap\n",
    "import numpy as np\n",
    "\n",
    "# Compute SHAP values\n",
    "explainer = shap.TreeExplainer(clf)  # assuming a tree-based model\n",
    "shap_values = explainer.shap_values(X_transformed_test)\n",
    "\n",
    "# Calculate mean absolute SHAP values\n",
    "mean_abs_shap = np.mean(np.abs(shap_values), axis=0)\n",
    "\n",
    "# Sort features by importance\n",
    "sorted_indices = np.argsort(mean_abs_shap)[::-1]\n",
    "\n",
    "# Plot\n",
    "import matplotlib.pyplot as plt\n",
    "\n",
    "features = vectorizer.get_feature_names_out()  # assuming vectorizer is your CountVectorizer or TfidfVectorizer\n",
    "sorted_features = [features[i] for i in sorted_indices]\n",
    "plt.figure(figsize=(12, 8))\n",
    "plt.barh(sorted_features[:20], mean_abs_shap[sorted_indices[:20]])  # top 20 features\n",
    "plt.xlabel('Mean Absolute SHAP Value')\n",
    "plt.title('Top 20 Features Ranked by Importance')\n",
    "plt.gca().invert_yaxis()\n",
    "plt.show()\n",
    "\n",
    "\n",
    "# # Interpret with SHAP\n",
    "# explainer = shap.TreeExplainer(clf)\n",
    "# shap_values = explainer.shap_values(X_test_transformed_dense)\n",
    "\n",
    "# # Plot the SHAP values for the first instance in the test set\n",
    "# shap.initjs()\n",
    "# shap.force_plot(explainer.expected_value[0], shap_values[0][0], feature_names=count_vectorizer.get_feature_names_out())\n",
    "\n",
    "# # For the summary plot\n",
    "# shap.summary_plot(shap_values, X_test_transformed_dense, feature_names=count_vectorizer.get_feature_names_out())\n"
   ]
  },
  {
   "cell_type": "code",
   "execution_count": 16,
   "id": "83f0db4d",
   "metadata": {},
   "outputs": [
    {
     "name": "stdout",
     "output_type": "stream",
     "text": [
      "  (0, 8)\t1\n",
      "  (0, 18)\t2\n",
      "  (0, 0)\t1\n",
      "  (1, 0)\t1\n",
      "  (1, 10)\t1\n",
      "  (2, 10)\t1\n",
      "  (3, 7)\t1\n",
      "  (5, 7)\t1\n",
      "  (5, 13)\t1\n",
      "  (5, 6)\t1\n",
      "  (6, 10)\t1\n",
      "  (6, 13)\t1\n",
      "  (7, 0)\t1\n",
      "  (7, 5)\t1\n",
      "  (7, 3)\t1\n",
      "  (8, 8)\t1\n",
      "  (8, 4)\t1\n",
      "  (9, 0)\t1\n",
      "  (9, 5)\t1\n",
      "  (9, 17)\t1\n",
      "  (10, 0)\t1\n",
      "  (10, 6)\t1\n",
      "  (10, 5)\t1\n",
      "  (10, 17)\t1\n",
      "  (11, 16)\t1\n",
      "  :\t:\n",
      "  (230, 14)\t1\n",
      "  (231, 8)\t1\n",
      "  (231, 0)\t1\n",
      "  (231, 3)\t1\n",
      "  (232, 6)\t1\n",
      "  (232, 9)\t1\n",
      "  (233, 6)\t1\n",
      "  (233, 3)\t1\n",
      "  (233, 9)\t1\n",
      "  (234, 8)\t1\n",
      "  (235, 16)\t1\n",
      "  (236, 0)\t1\n",
      "  (236, 5)\t1\n",
      "  (236, 17)\t1\n",
      "  (237, 0)\t1\n",
      "  (237, 10)\t1\n",
      "  (238, 7)\t1\n",
      "  (239, 8)\t1\n",
      "  (239, 0)\t1\n",
      "  (239, 3)\t1\n",
      "  (240, 16)\t1\n",
      "  (240, 12)\t1\n",
      "  (241, 8)\t1\n",
      "  (241, 0)\t1\n",
      "  (241, 3)\t1\n"
     ]
    }
   ],
   "source": [
    "import spacy\n",
    "import shap\n",
    "from sklearn.ensemble import RandomForestClassifier\n",
    "from sklearn.feature_extraction.text import CountVectorizer\n",
    "import matplotlib.pyplot as plt\n",
    "\n",
    "# Load the English model\n",
    "nlp = spacy.load(\"en_core_web_sm\")\n",
    "\n",
    "def preprocess(text):\n",
    "    doc = nlp(text)\n",
    "    # Lemmatize and filter out pronouns, punctuations, and determiners\n",
    "    tokens = [token.lemma_ for token in doc if token.pos_ not in ('PRON', 'PUNCT', 'DET')]\n",
    "    return ' '.join(tokens)\n",
    "\n",
    "# Preprocess the data\n",
    "X_train_processed = [preprocess(text) for text in X_train]\n",
    "X_test_processed = [preprocess(text) for text in X_test]\n",
    "\n",
    "# 1. Sum the occurrences of each feature across all samples.\n",
    "feature_sums = np.array(X_train_transformed.sum(axis=0)).ravel()\n",
    "\n",
    "# 2. Determine the features that meet the threshold.\n",
    "features_to_keep = np.where(feature_sums >= 10)[0]\n",
    "\n",
    "# 3. Use these features to filter the transformed data.\n",
    "X_train_transformed_filtered = X_train_transformed[:, features_to_keep]\n",
    "X_test_transformed_filtered = X_test_transformed[:, features_to_keep]\n",
    "print(X_train_transformed_filtered)\n",
    "\n",
    "\n",
    "# # Re-vectorize the preprocessed data\n",
    "# count_vectorizer = CountVectorizer(max_features=1000)  # Adjust the number of features as necessary\n",
    "# X_train_transformed = count_vectorizer.fit_transform(X_train_processed)\n",
    "# X_test_transformed = count_vectorizer.transform(X_test_processed)\n",
    "\n",
    "# # Train the model again\n",
    "# clf = RandomForestClassifier()\n",
    "# clf.fit(X_train_transformed, y_train)\n",
    "# y_pred = clf.predict(X_test_transformed)\n",
    "\n",
    "# print(y_pred)\n",
    "# from sklearn.metrics import accuracy_score\n",
    "# print(accuracy_score(y_test, y_pred))\n",
    "# print(X_train_transformed)\n",
    "\n",
    "# # Compute SHAP values\n",
    "# explainer = shap.TreeExplainer(clf, feature_perturbation='interventional')\n",
    "# shap_values = explainer.shap_values(X_test_transformed.toarray(), check_additivity=False)\n",
    "\n",
    "# # shap_values = explainer.shap_values(X_test_transformed.toarray())\n",
    "\n",
    "\n",
    "\n",
    "# # Calculate mean absolute SHAP values\n",
    "# mean_abs_shap = np.mean(np.abs(shap_values), axis=0)\n",
    "\n",
    "# # Sort features by importance\n",
    "# sorted_indices = np.argsort(mean_abs_shap)[::-1]\n",
    "\n",
    "# # Plot\n",
    "# features = count_vectorizer.get_feature_names_out()\n",
    "# assert len(features) == shap_values[0].shape[1]\n",
    "\n",
    "\n",
    "\n",
    "\n",
    "\n",
    "# sorted_features = [features[i] for i in sorted_indices]\n",
    "# plt.figure(figsize=(12, 8))\n",
    "# plt.barh(sorted_features[:20], mean_abs_shap[sorted_indices[:20]])  # top 20 features\n",
    "# plt.xlabel('Mean Absolute SHAP Value')\n",
    "# plt.title('Top 20 Features Ranked by Importance')\n",
    "# plt.gca().invert_yaxis()\n",
    "# plt.show()\n"
   ]
  },
  {
   "cell_type": "code",
   "execution_count": 17,
   "id": "f102e3f8",
   "metadata": {},
   "outputs": [],
   "source": [
    "# 1. Sum the occurrences of each feature across all samples.\n",
    "feature_sums = np.array(X_train_transformed.sum(axis=0)).ravel()\n",
    "\n",
    "# 2. Determine the features that meet the threshold.\n",
    "features_to_keep = np.where(feature_sums >= 6)[0]\n",
    "\n",
    "# 3. Use these features to filter the transformed data.\n",
    "X_train_transformed_filtered = X_train_transformed[:, features_to_keep]\n"
   ]
  },
  {
   "cell_type": "code",
   "execution_count": null,
   "id": "eebe3319",
   "metadata": {},
   "outputs": [],
   "source": [
    "print(X_train_transformed_filtered)\n"
   ]
  },
  {
   "cell_type": "code",
   "execution_count": null,
   "id": "9edb9b5d",
   "metadata": {},
   "outputs": [],
   "source": [
    "feature_sums = np.array(X_train_transformed.sum(axis=0)).ravel()\n",
    "print(feature_sums)\n"
   ]
  },
  {
   "cell_type": "code",
   "execution_count": null,
   "id": "8cf579cc",
   "metadata": {},
   "outputs": [],
   "source": [
    "features_to_keep = np.where(feature_sums >= 6)[0]\n",
    "print(features_to_keep)\n"
   ]
  },
  {
   "cell_type": "code",
   "execution_count": null,
   "id": "0a2f8602",
   "metadata": {},
   "outputs": [],
   "source": [
    "# Indicies of features to keep\n",
    "print(feature_sums[features_to_keep])"
   ]
  },
  {
   "cell_type": "code",
   "execution_count": null,
   "id": "cf3d834d",
   "metadata": {},
   "outputs": [],
   "source": [
    "# For example, (0, 10) in the filtered matrix means the value at the 0th row and 10th column in the \n",
    "# X_train_transformed_filtered matrix. It does not correspond directly to (0, 10) in the original X_train_transformed. Instead, \n",
    "# it corresponds to the value at (0, features_to_keep[10]) in the original matrix.\n",
    "\n",
    "X_train_transformed_filtered = X_train_transformed[:, features_to_keep]\n",
    "print(X_train_transformed_filtered)\n"
   ]
  },
  {
   "cell_type": "code",
   "execution_count": 18,
   "id": "aed383ed",
   "metadata": {},
   "outputs": [],
   "source": [
    "X_test_transformed_filtered = X_test_transformed[:, features_to_keep]"
   ]
  },
  {
   "cell_type": "code",
   "execution_count": 19,
   "id": "a331bd69",
   "metadata": {},
   "outputs": [
    {
     "data": {
      "text/html": [
       "<style>#sk-container-id-1 {color: black;background-color: white;}#sk-container-id-1 pre{padding: 0;}#sk-container-id-1 div.sk-toggleable {background-color: white;}#sk-container-id-1 label.sk-toggleable__label {cursor: pointer;display: block;width: 100%;margin-bottom: 0;padding: 0.3em;box-sizing: border-box;text-align: center;}#sk-container-id-1 label.sk-toggleable__label-arrow:before {content: \"▸\";float: left;margin-right: 0.25em;color: #696969;}#sk-container-id-1 label.sk-toggleable__label-arrow:hover:before {color: black;}#sk-container-id-1 div.sk-estimator:hover label.sk-toggleable__label-arrow:before {color: black;}#sk-container-id-1 div.sk-toggleable__content {max-height: 0;max-width: 0;overflow: hidden;text-align: left;background-color: #f0f8ff;}#sk-container-id-1 div.sk-toggleable__content pre {margin: 0.2em;color: black;border-radius: 0.25em;background-color: #f0f8ff;}#sk-container-id-1 input.sk-toggleable__control:checked~div.sk-toggleable__content {max-height: 200px;max-width: 100%;overflow: auto;}#sk-container-id-1 input.sk-toggleable__control:checked~label.sk-toggleable__label-arrow:before {content: \"▾\";}#sk-container-id-1 div.sk-estimator input.sk-toggleable__control:checked~label.sk-toggleable__label {background-color: #d4ebff;}#sk-container-id-1 div.sk-label input.sk-toggleable__control:checked~label.sk-toggleable__label {background-color: #d4ebff;}#sk-container-id-1 input.sk-hidden--visually {border: 0;clip: rect(1px 1px 1px 1px);clip: rect(1px, 1px, 1px, 1px);height: 1px;margin: -1px;overflow: hidden;padding: 0;position: absolute;width: 1px;}#sk-container-id-1 div.sk-estimator {font-family: monospace;background-color: #f0f8ff;border: 1px dotted black;border-radius: 0.25em;box-sizing: border-box;margin-bottom: 0.5em;}#sk-container-id-1 div.sk-estimator:hover {background-color: #d4ebff;}#sk-container-id-1 div.sk-parallel-item::after {content: \"\";width: 100%;border-bottom: 1px solid gray;flex-grow: 1;}#sk-container-id-1 div.sk-label:hover label.sk-toggleable__label {background-color: #d4ebff;}#sk-container-id-1 div.sk-serial::before {content: \"\";position: absolute;border-left: 1px solid gray;box-sizing: border-box;top: 0;bottom: 0;left: 50%;z-index: 0;}#sk-container-id-1 div.sk-serial {display: flex;flex-direction: column;align-items: center;background-color: white;padding-right: 0.2em;padding-left: 0.2em;position: relative;}#sk-container-id-1 div.sk-item {position: relative;z-index: 1;}#sk-container-id-1 div.sk-parallel {display: flex;align-items: stretch;justify-content: center;background-color: white;position: relative;}#sk-container-id-1 div.sk-item::before, #sk-container-id-1 div.sk-parallel-item::before {content: \"\";position: absolute;border-left: 1px solid gray;box-sizing: border-box;top: 0;bottom: 0;left: 50%;z-index: -1;}#sk-container-id-1 div.sk-parallel-item {display: flex;flex-direction: column;z-index: 1;position: relative;background-color: white;}#sk-container-id-1 div.sk-parallel-item:first-child::after {align-self: flex-end;width: 50%;}#sk-container-id-1 div.sk-parallel-item:last-child::after {align-self: flex-start;width: 50%;}#sk-container-id-1 div.sk-parallel-item:only-child::after {width: 0;}#sk-container-id-1 div.sk-dashed-wrapped {border: 1px dashed gray;margin: 0 0.4em 0.5em 0.4em;box-sizing: border-box;padding-bottom: 0.4em;background-color: white;}#sk-container-id-1 div.sk-label label {font-family: monospace;font-weight: bold;display: inline-block;line-height: 1.2em;}#sk-container-id-1 div.sk-label-container {text-align: center;}#sk-container-id-1 div.sk-container {/* jupyter's `normalize.less` sets `[hidden] { display: none; }` but bootstrap.min.css set `[hidden] { display: none !important; }` so we also need the `!important` here to be able to override the default hidden behavior on the sphinx rendered scikit-learn.org. See: https://github.com/scikit-learn/scikit-learn/issues/21755 */display: inline-block !important;position: relative;}#sk-container-id-1 div.sk-text-repr-fallback {display: none;}</style><div id=\"sk-container-id-1\" class=\"sk-top-container\"><div class=\"sk-text-repr-fallback\"><pre>LogisticRegression()</pre><b>In a Jupyter environment, please rerun this cell to show the HTML representation or trust the notebook. <br />On GitHub, the HTML representation is unable to render, please try loading this page with nbviewer.org.</b></div><div class=\"sk-container\" hidden><div class=\"sk-item\"><div class=\"sk-estimator sk-toggleable\"><input class=\"sk-toggleable__control sk-hidden--visually\" id=\"sk-estimator-id-1\" type=\"checkbox\" checked><label for=\"sk-estimator-id-1\" class=\"sk-toggleable__label sk-toggleable__label-arrow\">LogisticRegression</label><div class=\"sk-toggleable__content\"><pre>LogisticRegression()</pre></div></div></div></div></div>"
      ],
      "text/plain": [
       "LogisticRegression()"
      ]
     },
     "execution_count": 19,
     "metadata": {},
     "output_type": "execute_result"
    }
   ],
   "source": [
    "from sklearn.linear_model import LogisticRegression\n",
    "\n",
    "model = LogisticRegression()\n",
    "model.fit(X_train_transformed_filtered, y_train)\n"
   ]
  },
  {
   "cell_type": "code",
   "execution_count": 20,
   "id": "1fc91420",
   "metadata": {},
   "outputs": [
    {
     "name": "stdout",
     "output_type": "stream",
     "text": [
      "Accuracy: 0.57\n"
     ]
    }
   ],
   "source": [
    "y_pred = model.predict(X_test_transformed_filtered)\n",
    "\n",
    "from sklearn.metrics import accuracy_score\n",
    "accuracy = accuracy_score(y_test, y_pred)\n",
    "print(f\"Accuracy: {accuracy:.2f}\")\n"
   ]
  },
  {
   "cell_type": "code",
   "execution_count": 21,
   "id": "6b40e864",
   "metadata": {},
   "outputs": [
    {
     "ename": "NameError",
     "evalue": "name 'train_df' is not defined",
     "output_type": "error",
     "traceback": [
      "\u001b[1;31m---------------------------------------------------------------------------\u001b[0m",
      "\u001b[1;31mNameError\u001b[0m                                 Traceback (most recent call last)",
      "Cell \u001b[1;32mIn[21], line 1\u001b[0m\n\u001b[1;32m----> 1\u001b[0m \u001b[43mtrain_df\u001b[49m\u001b[38;5;241m.\u001b[39mhead()\n",
      "\u001b[1;31mNameError\u001b[0m: name 'train_df' is not defined"
     ]
    }
   ],
   "source": [
    "train_df.head()"
   ]
  },
  {
   "cell_type": "code",
   "execution_count": 22,
   "id": "c564d49b",
   "metadata": {},
   "outputs": [
    {
     "ename": "NameError",
     "evalue": "name 'train_df' is not defined",
     "output_type": "error",
     "traceback": [
      "\u001b[1;31m---------------------------------------------------------------------------\u001b[0m",
      "\u001b[1;31mNameError\u001b[0m                                 Traceback (most recent call last)",
      "Cell \u001b[1;32mIn[22], line 5\u001b[0m\n\u001b[0;32m      2\u001b[0m \u001b[38;5;28;01mimport\u001b[39;00m \u001b[38;5;21;01mre\u001b[39;00m\n\u001b[0;32m      4\u001b[0m \u001b[38;5;66;03m# Preprocess the text by separating words using the \"|\" delimiter\u001b[39;00m\n\u001b[1;32m----> 5\u001b[0m train_df[\u001b[38;5;124m\"\u001b[39m\u001b[38;5;124mDescription\u001b[39m\u001b[38;5;124m\"\u001b[39m] \u001b[38;5;241m=\u001b[39m \u001b[43mtrain_df\u001b[49m[\u001b[38;5;124m\"\u001b[39m\u001b[38;5;124mDescription\u001b[39m\u001b[38;5;124m\"\u001b[39m]\u001b[38;5;241m.\u001b[39mapply(\u001b[38;5;28;01mlambda\u001b[39;00m x: re\u001b[38;5;241m.\u001b[39msub(\u001b[38;5;124mr\u001b[39m\u001b[38;5;124m'\u001b[39m\u001b[38;5;124m\\\u001b[39m\u001b[38;5;124m|\u001b[39m\u001b[38;5;124m'\u001b[39m, \u001b[38;5;124m'\u001b[39m\u001b[38;5;124m \u001b[39m\u001b[38;5;124m'\u001b[39m, x))\n\u001b[0;32m      6\u001b[0m test_df[\u001b[38;5;124m\"\u001b[39m\u001b[38;5;124mDescription\u001b[39m\u001b[38;5;124m\"\u001b[39m] \u001b[38;5;241m=\u001b[39m test_df[\u001b[38;5;124m\"\u001b[39m\u001b[38;5;124mDescription\u001b[39m\u001b[38;5;124m\"\u001b[39m]\u001b[38;5;241m.\u001b[39mapply(\u001b[38;5;28;01mlambda\u001b[39;00m x: re\u001b[38;5;241m.\u001b[39msub(\u001b[38;5;124mr\u001b[39m\u001b[38;5;124m'\u001b[39m\u001b[38;5;124m\\\u001b[39m\u001b[38;5;124m|\u001b[39m\u001b[38;5;124m'\u001b[39m, \u001b[38;5;124m'\u001b[39m\u001b[38;5;124m \u001b[39m\u001b[38;5;124m'\u001b[39m, x))\n",
      "\u001b[1;31mNameError\u001b[0m: name 'train_df' is not defined"
     ]
    }
   ],
   "source": [
    "# Preprocess the text by separating words using the \"|\" delimiter\n",
    "import re\n",
    "\n",
    "# Preprocess the text by separating words using the \"|\" delimiter\n",
    "train_df[\"Description\"] = train_df[\"Description\"].apply(lambda x: re.sub(r'\\|', ' ', x))\n",
    "test_df[\"Description\"] = test_df[\"Description\"].apply(lambda x: re.sub(r'\\|', ' ', x))\n",
    "\n",
    "\n"
   ]
  },
  {
   "cell_type": "code",
   "execution_count": null,
   "id": "812fe931",
   "metadata": {},
   "outputs": [],
   "source": [
    "train_df.head()"
   ]
  },
  {
   "cell_type": "code",
   "execution_count": null,
   "id": "415d5f5c",
   "metadata": {},
   "outputs": [],
   "source": [
    "train_df.columns"
   ]
  },
  {
   "cell_type": "code",
   "execution_count": null,
   "id": "c879e6a6",
   "metadata": {},
   "outputs": [],
   "source": [
    "# All recipe items are unique as expected\n",
    "train_df['Description'].value_counts()"
   ]
  },
  {
   "cell_type": "code",
   "execution_count": null,
   "id": "a9566273",
   "metadata": {},
   "outputs": [],
   "source": [
    "X_train, y_train = train_df[['Description']], train_df['Combined Label']\n",
    "X_test, y_test = test_df[['Description']], test_df['Combined Label']\n"
   ]
  },
  {
   "cell_type": "code",
   "execution_count": null,
   "id": "f56c7520",
   "metadata": {},
   "outputs": [],
   "source": [
    "X_train = X_train.reset_index(drop=True)\n",
    "X_train"
   ]
  },
  {
   "cell_type": "code",
   "execution_count": null,
   "id": "41968925",
   "metadata": {},
   "outputs": [],
   "source": [
    "y_train.value_counts()"
   ]
  },
  {
   "cell_type": "code",
   "execution_count": null,
   "id": "88f832db",
   "metadata": {},
   "outputs": [],
   "source": [
    "scoring_metrics = 'accuracy'"
   ]
  },
  {
   "cell_type": "code",
   "execution_count": null,
   "id": "56e83402",
   "metadata": {},
   "outputs": [],
   "source": [
    "results = {}"
   ]
  },
  {
   "cell_type": "code",
   "execution_count": null,
   "id": "6468ec39",
   "metadata": {},
   "outputs": [],
   "source": [
    "def mean_std_cross_val_scores(model, X_train, y_train, **kwargs):\n",
    "    \"\"\"\n",
    "    Returns mean and std of cross validation\n",
    "\n",
    "    Parameters\n",
    "    ----------\n",
    "    model :\n",
    "        scikit-learn model\n",
    "    X_train : numpy array or pandas DataFrame\n",
    "        X in the training data\n",
    "    y_train :\n",
    "        y in the training data\n",
    "\n",
    "    Returns\n",
    "    ----------\n",
    "        pandas Series with mean scores from cross_validation\n",
    "    \"\"\"\n",
    "\n",
    "    scores = cross_validate(model, X_train, y_train, **kwargs)\n",
    "\n",
    "    mean_scores = pd.DataFrame(scores).mean()\n",
    "    std_scores = pd.DataFrame(scores).std()\n",
    "    out_col = []\n",
    "\n",
    "    for i in range(len(mean_scores)):\n",
    "        out_col.append((f\"%0.3f (+/- %0.3f)\" % (mean_scores[i], std_scores[i])))\n",
    "\n",
    "    return pd.Series(data=out_col, index=mean_scores.index)\n",
    "\n",
    "import numpy as np\n",
    "import pandas as pd\n",
    "from sklearn.model_selection import cross_validate\n",
    "from sklearn.linear_model import LogisticRegression\n",
    "from sklearn.pipeline import make_pipeline\n",
    "from sklearn.feature_extraction.text import CountVectorizer\n",
    "from sklearn.feature_extraction.text import TfidfVectorizer\n",
    "\n",
    "# def mean_std_cross_val_scores(model, X_train, y_train, **kwargs):\n",
    "#     \"\"\"\n",
    "#     Returns mean and std of cross validation\n",
    "\n",
    "#     Parameters\n",
    "#     ----------\n",
    "#     model :\n",
    "#         scikit-learn model\n",
    "#     X_train : numpy array or pandas DataFrame\n",
    "#         X in the training data\n",
    "#     y_train :\n",
    "#         y in the training data\n",
    "\n",
    "#     Returns\n",
    "#     ----------\n",
    "#         pandas Series with mean scores from cross_validation\n",
    "#     \"\"\"\n",
    "\n",
    "#     scores = cross_validate(model, X_train, y_train, **kwargs)\n",
    "\n",
    "#     mean_scores = pd.DataFrame(scores).mean()\n",
    "#     std_scores = pd.DataFrame(scores).std()\n",
    "#     out_col = []\n",
    "\n",
    "#     for i in range(len(mean_scores)):\n",
    "#         out_col.append((f\"%0.3f (+/- %0.3f)\" % (mean_scores[i], std_scores[i])))\n",
    "\n",
    "#     return pd.Series(data=out_col, index=mean_scores.index)"
   ]
  },
  {
   "cell_type": "code",
   "execution_count": null,
   "id": "33770484",
   "metadata": {},
   "outputs": [],
   "source": [
    "# This is the baseline model\n",
    "dummy = DummyClassifier()\n",
    "results[\"dummy\"] = mean_std_cross_val_scores(\n",
    "    dummy, X_train, y_train, return_train_score=True, scoring=scoring_metrics\n",
    ")\n",
    "pd.DataFrame(results).T"
   ]
  },
  {
   "cell_type": "code",
   "execution_count": null,
   "id": "2d7c56bd",
   "metadata": {},
   "outputs": [],
   "source": [
    "X_train['Description'].isna().sum()"
   ]
  },
  {
   "cell_type": "code",
   "execution_count": null,
   "id": "d712186a",
   "metadata": {},
   "outputs": [],
   "source": [
    "# Code for cross-validation for hyperparamter optimization\n",
    "from sklearn.feature_extraction.text import CountVectorizer\n",
    "scoring_metric = \"accuracy\"\n",
    "param_grid = {\"C\": np.logspace(-5, 5, 11)}\n",
    "for param in param_grid[\"C\"]:\n",
    "    pipe = make_pipeline(CountVectorizer(stop_words='english'), \n",
    "                         LogisticRegression(C=param, max_iter=2000))\n",
    "    key = \"Logistic Regression\" + \"(C= \" + str(param) + \")\"\n",
    "    results[key] = mean_std_cross_val_scores(\n",
    "        pipe, X_train['Description'], y_train, cv = 5, return_train_score=True, scoring=scoring_metrics\n",
    "    )\n",
    "pd.DataFrame(results).T\n"
   ]
  },
  {
   "cell_type": "code",
   "execution_count": null,
   "id": "3291bbeb",
   "metadata": {},
   "outputs": [],
   "source": [
    "y_train"
   ]
  },
  {
   "cell_type": "code",
   "execution_count": null,
   "id": "273d9cca",
   "metadata": {},
   "outputs": [],
   "source": [
    "# using a popular library called nltk\n",
    "import spacy"
   ]
  },
  {
   "cell_type": "code",
   "execution_count": null,
   "id": "7cf537b8",
   "metadata": {},
   "outputs": [],
   "source": [
    "import nltk"
   ]
  },
  {
   "cell_type": "code",
   "execution_count": null,
   "id": "a3b9a55d",
   "metadata": {},
   "outputs": [],
   "source": [
    "X_train"
   ]
  },
  {
   "cell_type": "code",
   "execution_count": null,
   "id": "b847d6df",
   "metadata": {},
   "outputs": [],
   "source": [
    "from sklearn.feature_extraction.text import CountVectorizer\n",
    "\n",
    "import re\n",
    "\n",
    "# Fit the CountVectorizer on the training data\n",
    "vec = CountVectorizer(stop_words='english')\n",
    "X_counts = vec.fit_transform(X_train[\"Description\"])\n",
    "\n",
    "# Remove measurements and other patterns from the feature names\n",
    "feature_names = vec.get_feature_names_out()\n",
    "\n",
    "# clean_feature_names = [re.sub(r'^[^|]+?\\|(\\d+g|\\+\\d+|\\d+ml|__ g|\\(.*\\)|\\d+g)', '', feature) for feature in feature_names]\n",
    "#clean_feature_names = [re.sub(r'^[^|]+?\\|(\\d+g|\\+\\d+|\\d+ml|__ g|\\(.*\\)|\\d+g)', '', feature) if not re.search(r'\\b\\d+g\\b', feature) else '' for feature in feature_names]\n",
    "\n",
    "\n",
    "# clean_feature_names = [re.sub(r'^[^|]+?\\|(\\d+g|\\+\\d+|\\d+ml|__ g|\\(.*\\)|\\d+g)|\\badd\\b|\\b\\d+(?=ml|oz)', '', feature) for feature in feature_names]\n",
    "\n",
    "# clean_feature_names = [re.sub(r'^[^|]+?\\|(\\d+g|\\+\\d+|\\d+ml|__ g|\\(.*\\)|\\d+g|\\d+(?:ml|oz))', '', feature) for feature in feature_names]\n",
    "# Create a DataFrame with the cleaned feature names\n",
    "\n",
    "clean_feature_names = [re.sub(r'^[^|]+?\\|(\\d+g|\\+\\d+|\\d+ml|__ g|\\(.*\\)|\\d+g)', '', feature) if not re.search(r'\\b\\d+g\\b', feature) else '' for feature in feature_names]\n",
    "clean_feature_names = [re.sub(r'^[^|]+?\\|(\\d+g|\\+\\d+|\\d+ml|__ g|\\(.*\\)|\\d+ml)', '', feature) if not re.search(r'\\b\\d+g\\b', feature) else '' for feature in clean_feature_names]\n",
    "clean_feature_names = [re.sub(r'^[^|]+?\\|(\\d+g|\\+\\d+|\\d+ml|__ g|\\(.*\\)|\\d+oz)', '', feature) if not re.search(r'\\b\\d+g\\b', feature) else '' for feature in clean_feature_names]\n",
    "# clean_feature_names = [re.sub(r'^[^|]+?\\|(\\d+g|\\+\\d+|\\d+ml|__ g|\\(.*\\)|\\d+ml|\\d+oz)', '', feature) if not re.search(r'\\b\\d+(?=ml|oz)\\b', feature) else '' for feature in clean_feature_names]\n",
    "bow_df = pd.DataFrame(X_counts.toarray(), columns=clean_feature_names, index=X_train[\"Description\"])\n",
    "\n",
    "\n",
    "# Remove the unwanted columns from the DataFrame\n",
    "unwanted_columns = [col for col in bow_df.columns if not col.strip()]\n",
    "bow_df.drop(columns=unwanted_columns, inplace=True)\n",
    "\n",
    "# bow_df.drop(columns = ['add'], inplace = True)\n",
    "bow_df"
   ]
  },
  {
   "cell_type": "code",
   "execution_count": null,
   "id": "92d8151b",
   "metadata": {
    "scrolled": true
   },
   "outputs": [],
   "source": [
    "bow_df.drop(columns = ['cal', 'gza', 'bev', 'del', 'flx', 'gr', 'grl', 'sand', 'ff', 'free', 'hs', 'cc', 'sl', '350ml', '3oz'], inplace = True)\n",
    "bow_df"
   ]
  },
  {
   "cell_type": "code",
   "execution_count": null,
   "id": "dec3981c",
   "metadata": {},
   "outputs": [],
   "source": [
    "bow_df.drop(columns = ['aad', 'add'], inplace = True)"
   ]
  },
  {
   "cell_type": "code",
   "execution_count": null,
   "id": "0c4c01bc",
   "metadata": {},
   "outputs": [],
   "source": [
    "bow_df.drop(columns = ['bowl'], inplace = True)"
   ]
  },
  {
   "cell_type": "code",
   "execution_count": null,
   "id": "1ccf4d90",
   "metadata": {},
   "outputs": [],
   "source": [
    "bow_df.drop(columns = ['x1', 'x2'], inplace = True)"
   ]
  },
  {
   "cell_type": "code",
   "execution_count": null,
   "id": "e97aeadb",
   "metadata": {},
   "outputs": [],
   "source": [
    "bow_df.drop(columns = ['ubc'], inplace = True)"
   ]
  },
  {
   "cell_type": "code",
   "execution_count": null,
   "id": "e55bbcc8",
   "metadata": {},
   "outputs": [],
   "source": [
    "bow_df.columns.tolist()"
   ]
  },
  {
   "cell_type": "code",
   "execution_count": null,
   "id": "ada0d938",
   "metadata": {},
   "outputs": [],
   "source": [
    "# Find the count of each keyword\n",
    "keyword_counts = bow_df.sum(axis=0)\n",
    "\n",
    "# Sort the keyword counts in descending order\n",
    "keyword_counts_sorted = keyword_counts.sort_values(ascending=False)\n",
    "\n",
    "# Print the keyword counts in descending order\n",
    "print(keyword_counts_sorted.head(30))\n",
    "keyword_counts_sorted.tolist()\n",
    "\n",
    "\n",
    "# also can set min_df which will ignore features with freq less than a threshold value"
   ]
  },
  {
   "cell_type": "code",
   "execution_count": null,
   "id": "118d71ea",
   "metadata": {},
   "outputs": [],
   "source": [
    "bow_df"
   ]
  },
  {
   "cell_type": "code",
   "execution_count": null,
   "id": "047e1286",
   "metadata": {},
   "outputs": [],
   "source": [
    "X_train_enc = bow_df.values\n",
    "logreg = LogisticRegression()\n"
   ]
  },
  {
   "cell_type": "code",
   "execution_count": null,
   "id": "48e59e0c",
   "metadata": {},
   "outputs": [],
   "source": [
    "logreg.fit(X_train_enc, y_train)"
   ]
  },
  {
   "cell_type": "code",
   "execution_count": null,
   "id": "3403db16",
   "metadata": {},
   "outputs": [],
   "source": [
    "y_pred = logreg.predict(X_train_enc)"
   ]
  },
  {
   "cell_type": "code",
   "execution_count": null,
   "id": "6f32e93b",
   "metadata": {},
   "outputs": [],
   "source": [
    "from sklearn.metrics import accuracy_score\n",
    "\n",
    "accuracy = accuracy_score(y_train, y_pred)\n",
    "print(\"Accuracy:\", accuracy)\n",
    "\n",
    "# accuracy = accuracy_score(y_train, y_pred)\n",
    "# print(\"Accuracy:\", accuracy)\n"
   ]
  },
  {
   "cell_type": "code",
   "execution_count": null,
   "id": "11c784f7",
   "metadata": {},
   "outputs": [],
   "source": [
    "y_pred = logreg.predict(X_test)"
   ]
  },
  {
   "cell_type": "markdown",
   "id": "1ccaa144",
   "metadata": {},
   "source": [
    "***Achieving a 95% training accuracy***"
   ]
  },
  {
   "cell_type": "code",
   "execution_count": null,
   "id": "de0b042c",
   "metadata": {},
   "outputs": [],
   "source": [
    "# To get results on test set need to create pipline and put preprocessing steps like removing column names in function\n",
    "# logreg.score(X_test, y_test)"
   ]
  },
  {
   "cell_type": "code",
   "execution_count": null,
   "id": "5f919a52",
   "metadata": {},
   "outputs": [],
   "source": [
    "# CountVectorizer can only take one column and not a data table\n",
    "type(X_train[\"Description\"])"
   ]
  },
  {
   "cell_type": "code",
   "execution_count": null,
   "id": "b49c4e9f",
   "metadata": {},
   "outputs": [],
   "source": [
    "X_counts"
   ]
  },
  {
   "cell_type": "code",
   "execution_count": null,
   "id": "9bf8542c",
   "metadata": {},
   "outputs": [],
   "source": [
    "print(\"The number of rows and columns: \", *X_counts.shape)\n",
    "print(\"The total number of elements: \", np.prod(X_counts.shape))\n",
    "print(\"The number of non-zero elements: \", X_counts.nnz)\n",
    "print(\n",
    "    \"Proportion of non-zero elements: %0.4f\" % (X_counts.nnz / np.prod(X_counts.shape))\n",
    ")\n"
   ]
  },
  {
   "cell_type": "code",
   "execution_count": null,
   "id": "bca932d6",
   "metadata": {},
   "outputs": [],
   "source": [
    "# from gensim.models import Word2Vec\n",
    "# import nltk\n",
    "# import pandas as pd\n",
    "# import numpy as np\n",
    "# from sklearn.linear_model import LogisticRegression\n",
    "\n",
    "# # Reindex the train_df DataFrame\n",
    "# train_df = train_df.reset_index(drop=True)\n",
    "\n",
    "# # Preprocess the text\n",
    "# sentences = [nltk.word_tokenize(sentence) for sentence in train_df['Description']]\n",
    "\n",
    "# # Train the Word2Vec model\n",
    "# model = Word2Vec(sentences, vector_size=100, window=5, min_count=2, workers=4)\n",
    "\n",
    "# # Convert text data into numerical vectors\n",
    "# word_vectors = model.wv\n",
    "# sentence_vectors = []\n",
    "\n",
    "# for sentence in sentences:\n",
    "#     vectors = []\n",
    "#     for word in sentence:\n",
    "#         if word in word_vectors:\n",
    "#             vectors.append(word_vectors[word])\n",
    "#     if vectors:\n",
    "#         sentence_vector = sum(vectors) / len(vectors)  # Averaging word vectors\n",
    "#         sentence_vectors.append(sentence_vector)\n",
    "\n",
    "# # Train your classification model (e.g., logistic regression)\n",
    "# X_train = np.vstack(sentence_vectors)\n",
    "# y_train = train_df['Combined Label']\n",
    "\n",
    "# # Reindex X_train and y_train\n",
    "# X_train_df = pd.DataFrame(X_train)\n",
    "# y_train = y_train.reset_index(drop=True)\n",
    "\n",
    "# logistic_model = LogisticRegression(max_iter=1000)\n",
    "# logistic_model.fit(X_train_df, y_train)\n",
    "\n",
    "# # Evaluate the model on test data\n",
    "# test_sentences = [nltk.word_tokenize(sentence) for sentence in test_df['Description']]\n",
    "# test_sentence_vectors = []\n",
    "\n",
    "# for sentence in test_sentences:\n",
    "#     vectors = []\n",
    "#     for word in sentence:\n",
    "#         if word in word_vectors:\n",
    "#             vectors.append(word_vectors[word])\n",
    "#     if vectors:\n",
    "#         sentence_vector = sum(vectors) / len(vectors)\n",
    "#         test_sentence_vectors.append(sentence_vector)\n",
    "\n",
    "# X_test = np.vstack(test_sentence_vectors)\n",
    "# y_test = test_df['Combined Label']\n",
    "# accuracy = logistic_model.score(X_test, y_test)\n",
    "# print(\"Accuracy:\", accuracy)\n"
   ]
  },
  {
   "cell_type": "code",
   "execution_count": null,
   "id": "0f59b599",
   "metadata": {},
   "outputs": [],
   "source": [
    "# from sklearn.feature_extraction.text import CountVectorizer\n",
    "# pipe = make_pipeline(CountVectorizer(stop_words='english'), \n",
    "#                      LogisticRegression(max_iter=1000))\n",
    "# results[\"logistic regression\"] = mean_std_cross_val_scores(\n",
    "#     pipe, bow_df, y_train, return_train_score=True, scoring=scoring_metrics\n",
    "# )\n",
    "# pd.DataFrame(results).T"
   ]
  },
  {
   "cell_type": "code",
   "execution_count": null,
   "id": "a69eabd7",
   "metadata": {},
   "outputs": [],
   "source": [
    "# # Create a CountVectorizer instance and fit it on the training data\n",
    "# vectorizer = CountVectorizer(stop_words='english')\n",
    "# X_train_counts = vectorizer.fit_transform(X_train)"
   ]
  },
  {
   "cell_type": "code",
   "execution_count": null,
   "id": "fd52e61d",
   "metadata": {},
   "outputs": [],
   "source": [
    "# # Transform the testing data using the trained vectorizer\n",
    "# X_test_counts = vectorizer.transform(X_test)"
   ]
  },
  {
   "cell_type": "code",
   "execution_count": null,
   "id": "9a569e24",
   "metadata": {},
   "outputs": [],
   "source": [
    "# # Train a classifier (e.g., Naive Bayes) on the training data\n",
    "# classifier = MultinomialNB()\n",
    "# classifier.fit(X_train_counts, y_train)"
   ]
  },
  {
   "cell_type": "code",
   "execution_count": null,
   "id": "199e9d60",
   "metadata": {},
   "outputs": [],
   "source": [
    "# # Make predictions on the testing data\n",
    "# y_pred = classifier.predict(X_test_counts)"
   ]
  },
  {
   "cell_type": "code",
   "execution_count": null,
   "id": "08cdf8ae",
   "metadata": {},
   "outputs": [],
   "source": [
    "# # Evaluate the performance of the classifier\n",
    "# accuracy = accuracy_score(y_test, y_pred)\n",
    "# print(\"Accuracy:\", accuracy)"
   ]
  }
 ],
 "metadata": {
  "kernelspec": {
   "display_name": "Python 3 (ipykernel)",
   "language": "python",
   "name": "python3"
  },
  "language_info": {
   "codemirror_mode": {
    "name": "ipython",
    "version": 3
   },
   "file_extension": ".py",
   "mimetype": "text/x-python",
   "name": "python",
   "nbconvert_exporter": "python",
   "pygments_lexer": "ipython3",
   "version": "3.10.9"
  }
 },
 "nbformat": 4,
 "nbformat_minor": 5
}
